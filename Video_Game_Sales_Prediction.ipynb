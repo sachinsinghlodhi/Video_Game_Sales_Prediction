{
  "nbformat": 4,
  "nbformat_minor": 0,
  "metadata": {
    "colab": {
      "name": "Video_Game_Sales_Prediction.ipynb",
      "provenance": [],
      "collapsed_sections": []
    },
    "kernelspec": {
      "name": "python3",
      "display_name": "Python 3"
    },
    "language_info": {
      "name": "python"
    },
    "accelerator": "GPU"
  },
  "cells": [
    {
      "cell_type": "code",
      "metadata": {
        "id": "Hk4qSv9MG5JR"
      },
      "source": [
        "#Data cleaning and pre-processing\n",
        "\n",
        "import numpy as np # linear algebra\n",
        "import pandas as pd # data processing, CSV file I/O (e.g. pd.read_csv)\n",
        "from sklearn.model_selection import train_test_split\n",
        "from sklearn.preprocessing import MinMaxScaler\n",
        "import os\n",
        "from sklearn.metrics import r2_score\n",
        "from sklearn.metrics import mean_squared_error\n",
        "from sklearn.linear_model import Ridge\n",
        "from sklearn.linear_model import Lasso\n",
        "from sklearn.model_selection import validation_curve\n",
        "from sklearn.tree import DecisionTreeRegressor\n",
        "from sklearn.model_selection import RandomizedSearchCV\n",
        "from sklearn.ensemble import RandomForestRegressor\n",
        "from sklearn.model_selection import ShuffleSplit\n",
        "from sklearn.neural_network import MLPRegressor\n",
        "import matplotlib.pyplot as plt\n",
        "from sklearn.model_selection import GridSearchCV\n",
        "from sklearn.ensemble import GradientBoostingRegressor\n",
        "from sklearn.pipeline import make_pipeline\n",
        "from sklearn.preprocessing import StandardScaler\n",
        "\n",
        "df = pd.read_csv('/content/Video_Games_Sales_as_at_22_Dec_2016.csv') #Reading from defined path of csv file.\n",
        "\n",
        "df['User_Score'] = df['User_Score'].replace('tbd', None)   #Replacing tbd in user score with null\n",
        "\n",
        "\n",
        "platform = df[['Platform', 'Critic_Score']]\n",
        "\n",
        "\n",
        "df_curr = df[(df['Platform'] == '3DS') | (df['Platform'] == 'DS') | (df['Platform'] == 'GBA') | (df['Platform'] == 'GC') | (df['Platform'] == 'PC') | (df['Platform'] == 'PS') | (df['Platform'] == 'PS2') | (df['Platform'] == 'PS3') | (df['Platform'] == 'PS4') | (df['Platform'] == 'PSP') | (df['Platform'] == 'PSV') | (df['Platform'] == 'Wii') | (df['Platform'] == 'WiiU') | (df['Platform'] == 'X360') | (df['Platform'] == 'XB') | (df['Platform'] == 'XOne')]\n",
        "\n",
        "platform = df_curr[['Platform', 'Critic_Score']]\n",
        "\n",
        "df = df_curr[df_curr['Critic_Score'].notna()]\n",
        "\n",
        "\n",
        "\n",
        "df = df.drop(['Name', 'Publisher', 'Developer', 'User_Count','JP_Sales','NA_Sales','EU_Sales'], axis = 1)  #Removing useless columns\n",
        "\n",
        "\n",
        "df['Year_of_Release'] = df['Year_of_Release'].fillna(df['Year_of_Release'].median())\n",
        "df['Critic_Count'] = df['Critic_Count'].fillna(df['Critic_Count'].median())\n",
        "df['User_Score'] = df['User_Score'].astype(float)\n",
        "df['User_Score'] = df['User_Score'].fillna(df['User_Score'].median())\n",
        "\n",
        "df['Rating'] = df['Rating'].fillna(df['Rating'].mode()[0])\n",
        "\n",
        "\n",
        "data = pd.get_dummies(data=df.copy(), columns=['Platform', 'Genre', 'Rating'])  #To do get dummies\n",
        "\n",
        "\n",
        "Ycol = [\"Global_Sales\"]\n",
        "X_Col = list(data.columns)\n",
        "X_Col.remove(Ycol[0])\n",
        "\n",
        "X = data[X_Col]\n",
        "Y = data[Ycol]\n",
        "\n",
        "\n",
        "\n",
        "X_train, X_test, Y_train, Y_test = train_test_split(X, Y, random_state=12)\n",
        "\n",
        "\n",
        "Y_train = np.log1p(Y_train)\n",
        "Y_test = np.log1p(Y_test)\n",
        "\n",
        "\n",
        "\n",
        "minmaxscaler =  MinMaxScaler()\n",
        "minmaxscaler.fit(X_train)\n",
        "\n",
        "X_train_final = minmaxscaler.transform(X_train) \n",
        "X_test_final = minmaxscaler.transform(X_test)\n",
        "\n"
      ],
      "execution_count": null,
      "outputs": []
    },
    {
      "cell_type": "code",
      "metadata": {
        "id": "tiIvOcTPYi2N",
        "colab": {
          "base_uri": "https://localhost:8080/",
          "height": 297
        },
        "outputId": "09834276-d376-476a-8ea2-5a667de57195"
      },
      "source": [
        "#validation curve for Ridge Regression\n",
        "\n",
        "parameter_range=np.arange(0.001,2,0.005)\n",
        "train_score, test_score=validation_curve(Ridge(), X_train_final,Y_train, param_name=\"alpha\", n_jobs=-1,\n",
        "      param_range=parameter_range, cv=6, scoring=\"r2\")\n",
        "mean_train_score = np.mean(train_score, axis = 1)\n",
        "std_train_score = np.std(train_score, axis = 1)\n",
        " \n",
        "# Calculating mean and standard deviation of testing score\n",
        "mean_test_score = np.mean(test_score, axis = 1)\n",
        "std_test_score = np.std(test_score, axis = 1)\n",
        " \n",
        "# Plot mean accuracy scores for training and testing scores\n",
        "plt.plot(parameter_range, mean_train_score,\n",
        "     label = \"Training Score\", color = 'b')\n",
        "plt.plot(parameter_range, mean_test_score,\n",
        "   label = \"Cross Validation Score\", color = 'g')\n",
        " \n",
        "# Creating the plot\n",
        "plt.ylabel(\"Accuracy\")\n",
        "plt.xlabel(\"alpha\")\n",
        "plt.tight_layout()\n",
        "plt.legend(loc = 'best')\n",
        "plt.show()"
      ],
      "execution_count": null,
      "outputs": [
        {
          "output_type": "display_data",
          "data": {
            "image/png": "[encoded data removed]",
            "text/plain": [
              "<Figure size 432x288 with 1 Axes>"
            ]
          },
          "metadata": {
            "needs_background": "light"
          }
        }
      ]
    },
    {
      "cell_type": "code",
      "metadata": {
        "id": "VZNpD2qxH6h9",
        "colab": {
          "base_uri": "https://localhost:8080/"
        },
        "outputId": "ff0ed1c4-a921-4f7c-901f-7092dff731c1"
      },
      "source": [
        "#Linear Regression (RIDGE)\n",
        "\n",
        "\n",
        "regr = Ridge(alpha=0.05)\n",
        "regr.fit(X_train_final, Y_train)\n",
        "y_pred=regr.predict(X_test_final)\n",
        "print('R2 Score for RIDGE Regression : ',r2_score(Y_test, y_pred))\n",
        "rmse = np.sqrt(mean_squared_error(Y_test, y_pred))\n",
        "print('RSME for Ridge Regression: ',rmse)\n",
        "\n",
        "\n",
        "\n",
        "\n",
        "\n"
      ],
      "execution_count": null,
      "outputs": [
        {
          "output_type": "stream",
          "name": "stdout",
          "text": [
            "R2 Score for RIDGE Regression :  0.6239497530545164\n",
            "RSME for Ridge Regression:  0.27163474574396407\n"
          ]
        }
      ]
    },
    {
      "cell_type": "code",
      "metadata": {
        "id": "nivpd11-JFoJ",
        "colab": {
          "base_uri": "https://localhost:8080/",
          "height": 297
        },
        "outputId": "31b77d45-fb4a-4d87-f971-672038c224b1"
      },
      "source": [
        "#validation curve for Lasso Regression\n",
        "\n",
        "parameter_range=np.arange(0.001,0.003,0.00025)\n",
        "train_score, test_score=validation_curve(Lasso(), X_train_final,Y_train, param_name=\"alpha\", n_jobs=-1,\n",
        "      param_range=parameter_range, cv=6, scoring=\"r2\")\n",
        "mean_train_score = np.mean(train_score, axis = 1)\n",
        "std_train_score = np.std(train_score, axis = 1)\n",
        " \n",
        "# Calculating mean and standard deviation of testing score\n",
        "mean_test_score = np.mean(test_score, axis = 1)\n",
        "std_test_score = np.std(test_score, axis = 1)\n",
        " \n",
        "# Plot mean accuracy scores for training and testing scores\n",
        "plt.plot(parameter_range, mean_train_score,\n",
        "     label = \"Training Score\", color = 'b')\n",
        "plt.plot(parameter_range, mean_test_score,\n",
        "   label = \"Cross Validation Score\", color = 'g')\n",
        " \n",
        "# Creating the plot\n",
        "plt.ylabel(\"Accuracy\")\n",
        "plt.xlabel(\"alpha\")\n",
        "plt.tight_layout()\n",
        "plt.legend(loc = 'best')\n",
        "plt.show()\n",
        "\n"
      ],
      "execution_count": null,
      "outputs": [
        {
          "output_type": "display_data",
          "data": {
            "image/png": "[encoded data removed]",
            "text/plain": [
              "<Figure size 432x288 with 1 Axes>"
            ]
          },
          "metadata": {
            "needs_background": "light"
          }
        }
      ]
    },
    {
      "cell_type": "code",
      "metadata": {
        "id": "BkCpfndbZR2V",
        "colab": {
          "base_uri": "https://localhost:8080/"
        },
        "outputId": "370c4917-10de-4e44-a947-cf69df615f2b"
      },
      "source": [
        "#Linear Regression(LASSO)\n",
        "\n",
        "\n",
        "regr = Lasso(alpha=0.0008)\n",
        "regr.fit(X_train_final, Y_train)\n",
        "Y_pred=regr.predict(X_test_final)\n",
        "print('R2 Score : ',r2_score(Y_test, y_pred))\n",
        "rmse = np.sqrt(mean_squared_error(Y_test, y_pred))\n",
        "print('RSME: ',rmse)"
      ],
      "execution_count": null,
      "outputs": [
        {
          "output_type": "stream",
          "name": "stdout",
          "text": [
            "R2 Score :  0.6239497530545164\n",
            "RSME:  0.27163474574396407\n"
          ]
        }
      ]
    },
    {
      "cell_type": "code",
      "metadata": {
        "id": "fp-nm3m9ZCAz",
        "colab": {
          "base_uri": "https://localhost:8080/",
          "height": 297
        },
        "outputId": "35be2447-95e9-4db1-c913-18373a5b55bd"
      },
      "source": [
        "#Validation Curve for Decision Tree regression (hyperparameter min_sample_split)\n",
        "\n",
        "\n",
        "parameter_range=np.arange(1,60,2)\n",
        "train_score, test_score=validation_curve(DecisionTreeRegressor(), X_train_final,np.ravel(Y_train), param_name=\"min_samples_split\", n_jobs=-1,\n",
        "      param_range=parameter_range, cv=5, scoring=\"r2\")\n",
        "mean_train_score = np.mean(train_score, axis = 1)\n",
        "std_train_score = np.std(train_score, axis = 1)\n",
        " \n",
        "# Calculating mean and standard deviation of testing score\n",
        "mean_test_score = np.mean(test_score, axis = 1)\n",
        "std_test_score = np.std(test_score, axis = 1)\n",
        " \n",
        "# Plot mean accuracy scores for training and testing scores\n",
        "plt.plot(parameter_range, mean_train_score,\n",
        "     label = \"Training Score\", color = 'b')\n",
        "plt.plot(parameter_range, mean_test_score,\n",
        "   label = \"Cross Validation Score\", color = 'g')\n",
        " \n",
        "# Creating the plot\n",
        "plt.ylabel(\"R2_Score\")\n",
        "plt.xlabel(\"min_samples_split\")\n",
        "plt.tight_layout()\n",
        "plt.legend(loc = 'best')\n",
        "plt.show()\n",
        "\n",
        "\n"
      ],
      "execution_count": null,
      "outputs": [
        {
          "output_type": "display_data",
          "data": {
            "image/png": "[encoded data removed]",
            "text/plain": [
              "<Figure size 432x288 with 1 Axes>"
            ]
          },
          "metadata": {
            "needs_background": "light"
          }
        }
      ]
    },
    {
      "cell_type": "code",
      "metadata": {
        "id": "leWZf515as6F",
        "colab": {
          "base_uri": "https://localhost:8080/",
          "height": 297
        },
        "outputId": "6df35ec3-2fed-4a6b-866f-371750b474ba"
      },
      "source": [
        "#Validation Curve for Decision Tree regression (hyperparameter max_depth)\n",
        "parameter_range=np.arange(1,50,5)\n",
        "train_score, test_score=validation_curve(DecisionTreeRegressor(), X_train_final,np.ravel(Y_train), param_name=\"max_depth\", n_jobs=-1,\n",
        "      param_range=parameter_range, cv=5, scoring=\"r2\")\n",
        "mean_train_score = np.mean(train_score, axis = 1)\n",
        "std_train_score = np.std(train_score, axis = 1)\n",
        " \n",
        "# Calculating mean and standard deviation of testing score\n",
        "mean_test_score = np.mean(test_score, axis = 1)\n",
        "std_test_score = np.std(test_score, axis = 1)\n",
        " \n",
        "# Plot mean accuracy scores for training and testing scores\n",
        "plt.plot(parameter_range, mean_train_score,\n",
        "     label = \"Training Score\", color = 'b')\n",
        "plt.plot(parameter_range, mean_test_score,\n",
        "   label = \"Cross Validation Score\", color = 'g')\n",
        " \n",
        "# Creating the plot\n",
        "plt.ylabel(\"R2_Score\")\n",
        "plt.xlabel(\"max_depth\")\n",
        "plt.tight_layout()\n",
        "plt.legend(loc = 'best')\n",
        "plt.show()"
      ],
      "execution_count": null,
      "outputs": [
        {
          "output_type": "display_data",
          "data": {
            "image/png": "[encoded data removed]",
            "text/plain": [
              "<Figure size 432x288 with 1 Axes>"
            ]
          },
          "metadata": {
            "needs_background": "light"
          }
        }
      ]
    },
    {
      "cell_type": "code",
      "metadata": {
        "id": "ptQ6d3a5JSkg",
        "colab": {
          "base_uri": "https://localhost:8080/"
        },
        "outputId": "cd4b68e2-ee51-488d-a67a-0845148bf777"
      },
      "source": [
        "#Decision Tree Regression\n",
        "\n",
        "\n",
        " # create regressor object\n",
        "regressor = DecisionTreeRegressor(max_depth=8,min_samples_split=22)\n",
        "  \n",
        "# fit the regressor with x and y data\n",
        "regressor.fit(X_train_final, np.ravel(Y_train))  \n",
        "y_pred=regressor.predict(X_test_final)\n",
        "print('R2 Score : ',r2_score(Y_test, y_pred))\n",
        "rmse = np.sqrt(mean_squared_error(Y_test, y_pred))\n",
        "print('RSME: ',rmse)\n",
        "\n",
        "\n",
        "\n",
        "\n",
        "\n"
      ],
      "execution_count": null,
      "outputs": [
        {
          "output_type": "stream",
          "name": "stdout",
          "text": [
            "R2 Score :  0.8796861266283469\n",
            "RSME:  0.15364563847821305\n"
          ]
        }
      ]
    },
    {
      "cell_type": "code",
      "metadata": {
        "id": "nszwT75ZeWad",
        "colab": {
          "base_uri": "https://localhost:8080/"
        },
        "outputId": "0c67fa4f-949f-4475-9518-512038dae5aa"
      },
      "source": [
        "#RandomizedSearchCV\n",
        "\n",
        "# Number of trees in random forest\n",
        "n_estimators = [int(x) for x in np.linspace(start = 30, stop = 300, num = 10)]\n",
        "# Number of features to consider at every split\n",
        "max_features = [int(x) for x in np.linspace(start = 5, stop = 40, num = 8)]\n",
        "random_grid = {'n_estimators': n_estimators,\n",
        "               'max_features': max_features}\n",
        "rf_random = RandomizedSearchCV(RandomForestRegressor(), param_distributions = random_grid, n_iter = 100, cv = 5, verbose=2, random_state=42, n_jobs = -1)\n",
        "# Fit the random search model\n",
        "rf_random.fit(X_train_final, np.ravel(Y_train))\n",
        "rf_random.best_params_"
      ],
      "execution_count": null,
      "outputs": [
        {
          "output_type": "stream",
          "name": "stdout",
          "text": [
            "Fitting 5 folds for each of 80 candidates, totalling 400 fits\n"
          ]
        },
        {
          "output_type": "stream",
          "name": "stderr",
          "text": [
            "/usr/local/lib/python3.7/dist-packages/sklearn/model_selection/_search.py:296: UserWarning: The total space of parameters 80 is smaller than n_iter=100. Running 80 iterations. For exhaustive searches, use GridSearchCV.\n",
            "  UserWarning,\n"
          ]
        }
      ]
    },
    {
      "cell_type": "code",
      "metadata": {
        "id": "t3MzeG_YMf0m"
      },
      "source": [
        "#Random Forest validation curve (hyper-parameter - n-estimators)\n",
        "\n",
        "parameter_range=np.arange(1,301,50)\n",
        "train_score, test_score=validation_curve(RandomForestRegressor(), X_train_final,np.ravel(Y_train), param_name=\"n_estimators\", n_jobs=-1,\n",
        "      param_range=parameter_range, cv=5, scoring=\"r2\")\n",
        "mean_train_score = np.mean(train_score, axis = 1)\n",
        "std_train_score = np.std(train_score, axis = 1)\n",
        " \n",
        "# Calculating mean and standard deviation of testing score\n",
        "mean_test_score = np.mean(test_score, axis = 1)\n",
        "std_test_score = np.std(test_score, axis = 1)\n",
        " \n",
        "# Plot mean accuracy scores for training and testing scores\n",
        "plt.plot(parameter_range, mean_train_score,\n",
        "     label = \"Training Score\", color = 'b')\n",
        "plt.plot(parameter_range, mean_test_score,\n",
        "   label = \"Cross Validation Score\", color = 'g')\n",
        " \n",
        "# Creating the plot\n",
        "plt.ylabel(\"R2_Score\")\n",
        "plt.xlabel(\"n_estimators\")\n",
        "plt.tight_layout()\n",
        "plt.legend(loc = 'best')\n",
        "plt.show()\n",
        "\n"
      ],
      "execution_count": null,
      "outputs": []
    },
    {
      "cell_type": "code",
      "metadata": {
        "id": "pouT9TLLMw46"
      },
      "source": [
        "#Random Forest validation curve (hyper-parameter - max_features)\n",
        "parameter_range=np.arange(1,41,5)\n",
        "train_score, test_score=validation_curve(RandomForestRegressor(), X_train_final,np.ravel(Y_train), param_name=\"max_features\", n_jobs=-1,\n",
        "      param_range=parameter_range, cv=5, scoring=\"r2\")\n",
        "mean_train_score = np.mean(train_score, axis = 1)\n",
        "std_train_score = np.std(train_score, axis = 1)\n",
        " \n",
        "# Calculating mean and standard deviation of testing score\n",
        "mean_test_score = np.mean(test_score, axis = 1)\n",
        "std_test_score = np.std(test_score, axis = 1)\n",
        " \n",
        "# Plot mean accuracy scores for training and testing scores\n",
        "plt.plot(parameter_range, mean_train_score,\n",
        "     label = \"Training Score\", color = 'b')\n",
        "plt.plot(parameter_range, mean_test_score,\n",
        "   label = \"Cross Validation Score\", color = 'g')\n",
        " \n",
        "# Creating the plot\n",
        "plt.ylabel(\"R2_Score\")\n",
        "plt.xlabel(\"max_features\")\n",
        "plt.tight_layout()\n",
        "plt.legend(loc = 'best')\n",
        "plt.show()\n",
        "\n",
        "\n"
      ],
      "execution_count": null,
      "outputs": []
    },
    {
      "cell_type": "code",
      "metadata": {
        "id": "BWWi4t1EMKbE"
      },
      "source": [
        "#Random Forest Regression\n",
        "\n",
        " # create regressor object\n",
        "regressor1 = RandomForestRegressor(max_depth=50,max_features=30, n_estimators=30)\n",
        "  \n",
        "# fit the regressor with x and y data\n",
        "regressor1.fit(X_train_final, np.ravel(Y_train))  \n",
        "y_pred=regressor1.predict(X_test_final)\n",
        "print('R2 Score : ',r2_score(Y_test, y_pred))\n",
        "rmse = np.sqrt(mean_squared_error(Y_test, y_pred))\n",
        "print('RSME: ',rmse)\n"
      ],
      "execution_count": null,
      "outputs": []
    },
    {
      "cell_type": "code",
      "metadata": {
        "id": "1RI8lb8yOQHm"
      },
      "source": [
        "#MLP Regression\n",
        "\n",
        "\n",
        "#Create parameter grid based on earlier analysis\n",
        "Mlpr_grid = [\n",
        "    {'alpha': [0.1,0.01],'early_stopping': [True],'hidden_layer_sizes': [(10,5),(15,5),(18,5)], 'solver': ['lbfgs', 'adam','sgd'], 'batch_size': ['auto'],\n",
        "     'learning_rate': ['adaptive','invscaling'], 'max_iter': [10000,15000,20000], 'verbose': [True], \n",
        "     'nesterovs_momentum': [True],  'validation_fraction': [0.12],\n",
        "     'random_state': [2,3],'activation': ['logistic','tanh', 'relu']}\n",
        "]\n",
        "\n",
        "#Run gridsearchCV for MLPRegressor\n",
        "regressor = GridSearchCV(MLPRegressor(), Mlpr_grid, cv = 5, scoring='r2')\n",
        "regressor.fit(X_train_final, np.ravel(Y_train))  \n",
        "\n",
        "#print Best Parameters:\n",
        "print(\"Best Parameters = \" ,regressor.best_params_)\n",
        "\n",
        "#Run only the best found Parameter:\n",
        "regressor = MLPRegressor(alpha=0.01,early_stopping= True, hidden_layer_sizes= (15,5),solver='lbfgs', batch_size ='auto',\n",
        "     learning_rate ='adaptive', max_iter=10000, verbose=True, \n",
        "     nesterovs_momentum= True, validation_fraction= 0.12,\n",
        "     random_state= 2,activation= 'logistic')\n",
        "\t \n",
        "regressor.fit(X_train_final, np.ravel(Y_train))  \n",
        "y_pred=regressor.predict(X_test_final)\n",
        "\n",
        "\n",
        "#Print R2 and RSME scores\n",
        "print('R2 Score : ',r2_score(Y_test, y_pred))\n",
        "rmse = np.sqrt(mean_squared_error(Y_test, y_pred))\n",
        "print('RSME: ',rmse)\n",
        "\n",
        "\n",
        "\n"
      ],
      "execution_count": null,
      "outputs": []
    },
    {
      "cell_type": "code",
      "metadata": {
        "id": "VUr8fxqeOhg3"
      },
      "source": [
        "#Gradient Boosting validation Curve (hyper-parameter: Learning Rate)\n",
        "\n",
        "parameter_range=np.arange(0.05,1,0.05)\n",
        "train_score, test_score=validation_curve(GradientBoostingRegressor(), X_train_final,np.ravel(Y_train), param_name=\"learning_rate\", n_jobs=-1,\n",
        "      param_range=parameter_range, cv=5, scoring=\"r2\")\n",
        "mean_train_score = np.mean(train_score, axis = 1)\n",
        "std_train_score = np.std(train_score, axis = 1)\n",
        " \n",
        "# Calculating mean and standard deviation of testing score\n",
        "mean_test_score = np.mean(test_score, axis = 1)\n",
        "std_test_score = np.std(test_score, axis = 1)\n",
        " \n",
        "# Plot mean accuracy scores for training and testing scores\n",
        "plt.plot(parameter_range, mean_train_score,\n",
        "     label = \"Training Score\", color = 'b')\n",
        "plt.plot(parameter_range, mean_test_score,\n",
        "   label = \"Cross Validation Score\", color = 'g')\n",
        " \n",
        "# Creating the plot\n",
        "plt.ylabel(\"Accuracy\")\n",
        "plt.xlabel(\"learning_rate\")\n",
        "plt.tight_layout()\n",
        "plt.legend(loc = 'best')\n",
        "plt.show()\n"
      ],
      "execution_count": null,
      "outputs": []
    },
    {
      "cell_type": "code",
      "metadata": {
        "id": "xQBh7pQ0Owcq"
      },
      "source": [
        "#Gradient Boosting validation Curve (hyper-parameter: Max Depth)\n",
        "parameter_range=np.arange(2,11,2)\n",
        "train_score, test_score=validation_curve(GradientBoostingRegressor(), X_train_final,np.ravel(Y_train), param_name=\"max_depth\", n_jobs=-1,\n",
        "      param_range=parameter_range, cv=5, scoring=\"r2\")\n",
        "mean_train_score = np.mean(train_score, axis = 1)\n",
        "std_train_score = np.std(train_score, axis = 1)\n",
        " \n",
        "# Calculating mean and standard deviation of testing score\n",
        "mean_test_score = np.mean(test_score, axis = 1)\n",
        "std_test_score = np.std(test_score, axis = 1)\n",
        " \n",
        "# Plot mean accuracy scores for training and testing scores\n",
        "plt.plot(parameter_range, mean_train_score,\n",
        "     label = \"Training Score\", color = 'b')\n",
        "plt.plot(parameter_range, mean_test_score,\n",
        "   label = \"Cross Validation Score\", color = 'g')\n",
        " \n",
        "# Creating the plot\n",
        "plt.ylabel(\"Accuracy\")\n",
        "plt.xlabel(\"max_depth\")\n",
        "plt.tight_layout()\n",
        "plt.legend(loc = 'best')\n",
        "plt.show()"
      ],
      "execution_count": null,
      "outputs": []
    },
    {
      "cell_type": "code",
      "metadata": {
        "id": "_nKlQEgJOmGj"
      },
      "source": [
        "#GradientBoost Regression\n",
        "\n",
        "regressor = GradientBoostingRegressor(n_estimators = 200, max_depth = 5,learning_rate=0.1)\n",
        "regressor.fit(X_train_final, np.ravel(Y_train)) \n",
        "y_pred = regressor.predict(X_test_final)\n",
        "print('R2 Score : ',r2_score(Y_test, y_pred))\n",
        "rmse = np.sqrt(mean_squared_error(Y_test, y_pred))\n",
        "print('RSME: ',rmse)\n",
        "\n",
        "\n",
        "\n",
        "\n",
        "\n"
      ],
      "execution_count": null,
      "outputs": []
    },
    {
      "cell_type": "code",
      "metadata": {
        "id": "mWRQp311O-8v"
      },
      "source": [
        "\n",
        "from sklearn import svm\n",
        "parameter_range=np.arange(0,50,5)\n",
        "train_score, test_score=validation_curve(svm.SVR(kernel='rbf'), X_train_final,Y_train, param_name=\"C\", n_jobs=-1,\n",
        "      param_range=parameter_range, cv=6, scoring=\"r2\")\n",
        "mean_train_score = np.mean(train_score, axis = 1)\n",
        "std_train_score = np.std(train_score, axis = 1)\n",
        " \n",
        "# Calculating mean and standard deviation of testing score\n",
        "mean_test_score = np.mean(test_score, axis = 1)\n",
        "std_test_score = np.std(test_score, axis = 1)\n",
        " \n",
        "# Plot mean accuracy scores for training and testing scores\n",
        "plt.plot(parameter_range, mean_train_score,\n",
        "     label = \"Training Score\", color = 'b')\n",
        "plt.plot(parameter_range, mean_test_score,\n",
        "   label = \"Cross Validation Score\", color = 'g')\n",
        " \n",
        "# Creating the plot\n",
        "plt.ylabel(\"R2_Score\")\n",
        "plt.xlabel(\"coef0\")\n",
        "plt.tight_layout()\n",
        "plt.legend(loc = 'best')\n",
        "plt.show()\n",
        "\n",
        "\n",
        "\n",
        "\n"
      ],
      "execution_count": null,
      "outputs": []
    },
    {
      "cell_type": "code",
      "metadata": {
        "id": "h6STCgbeO4lK"
      },
      "source": [
        "\n",
        " # create regressor object\n",
        "poly_regressor = svm.SVR(kernel='poly', degree=2, coef0=0.45)\n",
        "  \n",
        "# fit the regressor with x and y data\n",
        "poly_regressor.fit(X_train_final, np.ravel(Y_train))  \n",
        "y_pred=poly_regressor.predict(X_test_final)\n",
        "print('R2 Score : ',r2_score(Y_test, y_pred))\n",
        "rmse = np.sqrt(mean_squared_error(Y_test, y_pred))\n",
        "print('RSME: ',rmse)\n",
        "\n",
        "\n",
        "\n"
      ],
      "execution_count": null,
      "outputs": []
    },
    {
      "cell_type": "code",
      "metadata": {
        "id": "67Ro5ygWeNC_"
      },
      "source": [
        "\n",
        "clf = make_pipeline(StandardScaler(), svm.SVR(kernel='rbf', C=30))\n",
        "clf.fit(X_train_final, np.ravel(Y_train))\n",
        "y_pred=clf.predict(X_test_final)\n",
        "print('R2 Score : ',r2_score(Y_test, y_pred))\n",
        "rmse = np.sqrt(mean_squared_error(Y_test, y_pred))\n",
        "print('RSME: ',rmse)"
      ],
      "execution_count": null,
      "outputs": []
    }
  ]
}