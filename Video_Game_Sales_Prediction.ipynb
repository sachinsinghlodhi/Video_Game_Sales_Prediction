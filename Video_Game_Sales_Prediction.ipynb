{
  "nbformat": 4,
  "nbformat_minor": 0,
  "metadata": {
    "accelerator": "GPU",
    "colab": {
      "name": "Video_Game_Sales_Prediction.ipynb",
      "provenance": [],
      "collapsed_sections": []
    },
    "kernelspec": {
      "display_name": "Python 3",
      "name": "python3"
    },
    "language_info": {
      "name": "python"
    }
  },
  "cells": [
    {
      "cell_type": "code",
      "metadata": {
        "id": "Hk4qSv9MG5JR"
      },
      "source": [
        "#Data cleaning and pre-processing\n",
        "\n",
        "import numpy as np # linear algebra\n",
        "import pandas as pd # data processing, CSV file I/O (e.g. pd.read_csv)\n",
        "from sklearn.model_selection import train_test_split\n",
        "from sklearn.preprocessing import MinMaxScaler\n",
        "import os\n",
        "from sklearn.metrics import r2_score\n",
        "from sklearn.metrics import mean_squared_error\n",
        "from sklearn.linear_model import Ridge\n",
        "from sklearn.linear_model import Lasso\n",
        "from sklearn.model_selection import validation_curve\n",
        "from sklearn.tree import DecisionTreeRegressor\n",
        "from sklearn.model_selection import RandomizedSearchCV\n",
        "from sklearn.ensemble import RandomForestRegressor\n",
        "from sklearn.model_selection import ShuffleSplit\n",
        "from sklearn.neural_network import MLPRegressor\n",
        "import matplotlib.pyplot as plt\n",
        "from sklearn.model_selection import GridSearchCV\n",
        "from sklearn.ensemble import GradientBoostingRegressor\n",
        "from sklearn.pipeline import make_pipeline\n",
        "from sklearn.preprocessing import StandardScaler\n",
        "\n",
        "df = pd.read_csv('Video_Games_Sales_as_at_22_Dec_2016.csv') #Reading from defined path of csv file."
      ],
      "execution_count": 1,
      "outputs": []
    },
    {
      "cell_type": "markdown",
      "metadata": {
        "id": "gzKXonKdLXHb"
      },
      "source": [
        "Initial Analysis:"
      ]
    },
    {
      "cell_type": "code",
      "metadata": {
        "colab": {
          "base_uri": "https://localhost:8080/",
          "height": 290
        },
        "id": "DJINm-FsJAIq",
        "outputId": "1d131a06-85a7-49f3-e341-352bdc427a23"
      },
      "source": [
        "df.head()"
      ],
      "execution_count": 2,
      "outputs": [
        {
          "output_type": "execute_result",
          "data": {
            "text/html": [
              "<div>\n",
              "<style scoped>\n",
              "    .dataframe tbody tr th:only-of-type {\n",
              "        vertical-align: middle;\n",
              "    }\n",
              "\n",
              "    .dataframe tbody tr th {\n",
              "        vertical-align: top;\n",
              "    }\n",
              "\n",
              "    .dataframe thead th {\n",
              "        text-align: right;\n",
              "    }\n",
              "</style>\n",
              "<table border=\"1\" class=\"dataframe\">\n",
              "  <thead>\n",
              "    <tr style=\"text-align: right;\">\n",
              "      <th></th>\n",
              "      <th>Name</th>\n",
              "      <th>Platform</th>\n",
              "      <th>Year_of_Release</th>\n",
              "      <th>Genre</th>\n",
              "      <th>Publisher</th>\n",
              "      <th>NA_Sales</th>\n",
              "      <th>EU_Sales</th>\n",
              "      <th>JP_Sales</th>\n",
              "      <th>Other_Sales</th>\n",
              "      <th>Global_Sales</th>\n",
              "      <th>Critic_Score</th>\n",
              "      <th>Critic_Count</th>\n",
              "      <th>User_Score</th>\n",
              "      <th>User_Count</th>\n",
              "      <th>Developer</th>\n",
              "      <th>Rating</th>\n",
              "    </tr>\n",
              "  </thead>\n",
              "  <tbody>\n",
              "    <tr>\n",
              "      <th>0</th>\n",
              "      <td>Wii Sports</td>\n",
              "      <td>Wii</td>\n",
              "      <td>2006.0</td>\n",
              "      <td>Sports</td>\n",
              "      <td>Nintendo</td>\n",
              "      <td>41.36</td>\n",
              "      <td>28.96</td>\n",
              "      <td>3.77</td>\n",
              "      <td>8.45</td>\n",
              "      <td>82.53</td>\n",
              "      <td>76.0</td>\n",
              "      <td>51.0</td>\n",
              "      <td>8</td>\n",
              "      <td>322.0</td>\n",
              "      <td>Nintendo</td>\n",
              "      <td>E</td>\n",
              "    </tr>\n",
              "    <tr>\n",
              "      <th>1</th>\n",
              "      <td>Super Mario Bros.</td>\n",
              "      <td>NES</td>\n",
              "      <td>1985.0</td>\n",
              "      <td>Platform</td>\n",
              "      <td>Nintendo</td>\n",
              "      <td>29.08</td>\n",
              "      <td>3.58</td>\n",
              "      <td>6.81</td>\n",
              "      <td>0.77</td>\n",
              "      <td>40.24</td>\n",
              "      <td>NaN</td>\n",
              "      <td>NaN</td>\n",
              "      <td>NaN</td>\n",
              "      <td>NaN</td>\n",
              "      <td>NaN</td>\n",
              "      <td>NaN</td>\n",
              "    </tr>\n",
              "    <tr>\n",
              "      <th>2</th>\n",
              "      <td>Mario Kart Wii</td>\n",
              "      <td>Wii</td>\n",
              "      <td>2008.0</td>\n",
              "      <td>Racing</td>\n",
              "      <td>Nintendo</td>\n",
              "      <td>15.68</td>\n",
              "      <td>12.76</td>\n",
              "      <td>3.79</td>\n",
              "      <td>3.29</td>\n",
              "      <td>35.52</td>\n",
              "      <td>82.0</td>\n",
              "      <td>73.0</td>\n",
              "      <td>8.3</td>\n",
              "      <td>709.0</td>\n",
              "      <td>Nintendo</td>\n",
              "      <td>E</td>\n",
              "    </tr>\n",
              "    <tr>\n",
              "      <th>3</th>\n",
              "      <td>Wii Sports Resort</td>\n",
              "      <td>Wii</td>\n",
              "      <td>2009.0</td>\n",
              "      <td>Sports</td>\n",
              "      <td>Nintendo</td>\n",
              "      <td>15.61</td>\n",
              "      <td>10.93</td>\n",
              "      <td>3.28</td>\n",
              "      <td>2.95</td>\n",
              "      <td>32.77</td>\n",
              "      <td>80.0</td>\n",
              "      <td>73.0</td>\n",
              "      <td>8</td>\n",
              "      <td>192.0</td>\n",
              "      <td>Nintendo</td>\n",
              "      <td>E</td>\n",
              "    </tr>\n",
              "    <tr>\n",
              "      <th>4</th>\n",
              "      <td>Pokemon Red/Pokemon Blue</td>\n",
              "      <td>GB</td>\n",
              "      <td>1996.0</td>\n",
              "      <td>Role-Playing</td>\n",
              "      <td>Nintendo</td>\n",
              "      <td>11.27</td>\n",
              "      <td>8.89</td>\n",
              "      <td>10.22</td>\n",
              "      <td>1.00</td>\n",
              "      <td>31.37</td>\n",
              "      <td>NaN</td>\n",
              "      <td>NaN</td>\n",
              "      <td>NaN</td>\n",
              "      <td>NaN</td>\n",
              "      <td>NaN</td>\n",
              "      <td>NaN</td>\n",
              "    </tr>\n",
              "  </tbody>\n",
              "</table>\n",
              "</div>"
            ],
            "text/plain": [
              "                       Name Platform  ...  Developer Rating\n",
              "0                Wii Sports      Wii  ...   Nintendo      E\n",
              "1         Super Mario Bros.      NES  ...        NaN    NaN\n",
              "2            Mario Kart Wii      Wii  ...   Nintendo      E\n",
              "3         Wii Sports Resort      Wii  ...   Nintendo      E\n",
              "4  Pokemon Red/Pokemon Blue       GB  ...        NaN    NaN\n",
              "\n",
              "[5 rows x 16 columns]"
            ]
          },
          "metadata": {},
          "execution_count": 2
        }
      ]
    },
    {
      "cell_type": "code",
      "metadata": {
        "colab": {
          "base_uri": "https://localhost:8080/",
          "height": 358
        },
        "id": "abyXTGrPJAmg",
        "outputId": "3b3a3b74-8a96-4717-86db-e1a08d4b52cd"
      },
      "source": [
        "df.tail()"
      ],
      "execution_count": 3,
      "outputs": [
        {
          "output_type": "execute_result",
          "data": {
            "text/html": [
              "<div>\n",
              "<style scoped>\n",
              "    .dataframe tbody tr th:only-of-type {\n",
              "        vertical-align: middle;\n",
              "    }\n",
              "\n",
              "    .dataframe tbody tr th {\n",
              "        vertical-align: top;\n",
              "    }\n",
              "\n",
              "    .dataframe thead th {\n",
              "        text-align: right;\n",
              "    }\n",
              "</style>\n",
              "<table border=\"1\" class=\"dataframe\">\n",
              "  <thead>\n",
              "    <tr style=\"text-align: right;\">\n",
              "      <th></th>\n",
              "      <th>Name</th>\n",
              "      <th>Platform</th>\n",
              "      <th>Year_of_Release</th>\n",
              "      <th>Genre</th>\n",
              "      <th>Publisher</th>\n",
              "      <th>NA_Sales</th>\n",
              "      <th>EU_Sales</th>\n",
              "      <th>JP_Sales</th>\n",
              "      <th>Other_Sales</th>\n",
              "      <th>Global_Sales</th>\n",
              "      <th>Critic_Score</th>\n",
              "      <th>Critic_Count</th>\n",
              "      <th>User_Score</th>\n",
              "      <th>User_Count</th>\n",
              "      <th>Developer</th>\n",
              "      <th>Rating</th>\n",
              "    </tr>\n",
              "  </thead>\n",
              "  <tbody>\n",
              "    <tr>\n",
              "      <th>16714</th>\n",
              "      <td>Samurai Warriors: Sanada Maru</td>\n",
              "      <td>PS3</td>\n",
              "      <td>2016.0</td>\n",
              "      <td>Action</td>\n",
              "      <td>Tecmo Koei</td>\n",
              "      <td>0.00</td>\n",
              "      <td>0.00</td>\n",
              "      <td>0.01</td>\n",
              "      <td>0.0</td>\n",
              "      <td>0.01</td>\n",
              "      <td>NaN</td>\n",
              "      <td>NaN</td>\n",
              "      <td>NaN</td>\n",
              "      <td>NaN</td>\n",
              "      <td>NaN</td>\n",
              "      <td>NaN</td>\n",
              "    </tr>\n",
              "    <tr>\n",
              "      <th>16715</th>\n",
              "      <td>LMA Manager 2007</td>\n",
              "      <td>X360</td>\n",
              "      <td>2006.0</td>\n",
              "      <td>Sports</td>\n",
              "      <td>Codemasters</td>\n",
              "      <td>0.00</td>\n",
              "      <td>0.01</td>\n",
              "      <td>0.00</td>\n",
              "      <td>0.0</td>\n",
              "      <td>0.01</td>\n",
              "      <td>NaN</td>\n",
              "      <td>NaN</td>\n",
              "      <td>NaN</td>\n",
              "      <td>NaN</td>\n",
              "      <td>NaN</td>\n",
              "      <td>NaN</td>\n",
              "    </tr>\n",
              "    <tr>\n",
              "      <th>16716</th>\n",
              "      <td>Haitaka no Psychedelica</td>\n",
              "      <td>PSV</td>\n",
              "      <td>2016.0</td>\n",
              "      <td>Adventure</td>\n",
              "      <td>Idea Factory</td>\n",
              "      <td>0.00</td>\n",
              "      <td>0.00</td>\n",
              "      <td>0.01</td>\n",
              "      <td>0.0</td>\n",
              "      <td>0.01</td>\n",
              "      <td>NaN</td>\n",
              "      <td>NaN</td>\n",
              "      <td>NaN</td>\n",
              "      <td>NaN</td>\n",
              "      <td>NaN</td>\n",
              "      <td>NaN</td>\n",
              "    </tr>\n",
              "    <tr>\n",
              "      <th>16717</th>\n",
              "      <td>Spirits &amp; Spells</td>\n",
              "      <td>GBA</td>\n",
              "      <td>2003.0</td>\n",
              "      <td>Platform</td>\n",
              "      <td>Wanadoo</td>\n",
              "      <td>0.01</td>\n",
              "      <td>0.00</td>\n",
              "      <td>0.00</td>\n",
              "      <td>0.0</td>\n",
              "      <td>0.01</td>\n",
              "      <td>NaN</td>\n",
              "      <td>NaN</td>\n",
              "      <td>NaN</td>\n",
              "      <td>NaN</td>\n",
              "      <td>NaN</td>\n",
              "      <td>NaN</td>\n",
              "    </tr>\n",
              "    <tr>\n",
              "      <th>16718</th>\n",
              "      <td>Winning Post 8 2016</td>\n",
              "      <td>PSV</td>\n",
              "      <td>2016.0</td>\n",
              "      <td>Simulation</td>\n",
              "      <td>Tecmo Koei</td>\n",
              "      <td>0.00</td>\n",
              "      <td>0.00</td>\n",
              "      <td>0.01</td>\n",
              "      <td>0.0</td>\n",
              "      <td>0.01</td>\n",
              "      <td>NaN</td>\n",
              "      <td>NaN</td>\n",
              "      <td>NaN</td>\n",
              "      <td>NaN</td>\n",
              "      <td>NaN</td>\n",
              "      <td>NaN</td>\n",
              "    </tr>\n",
              "  </tbody>\n",
              "</table>\n",
              "</div>"
            ],
            "text/plain": [
              "                                Name Platform  ...  Developer Rating\n",
              "16714  Samurai Warriors: Sanada Maru      PS3  ...        NaN    NaN\n",
              "16715               LMA Manager 2007     X360  ...        NaN    NaN\n",
              "16716        Haitaka no Psychedelica      PSV  ...        NaN    NaN\n",
              "16717               Spirits & Spells      GBA  ...        NaN    NaN\n",
              "16718            Winning Post 8 2016      PSV  ...        NaN    NaN\n",
              "\n",
              "[5 rows x 16 columns]"
            ]
          },
          "metadata": {},
          "execution_count": 3
        }
      ]
    },
    {
      "cell_type": "code",
      "metadata": {
        "colab": {
          "base_uri": "https://localhost:8080/",
          "height": 696
        },
        "id": "UXGpdWM6JNtT",
        "outputId": "c709b850-d523-455d-de0a-746176eb48dc"
      },
      "source": [
        "df.sample(10)"
      ],
      "execution_count": 4,
      "outputs": [
        {
          "output_type": "execute_result",
          "data": {
            "text/html": [
              "<div>\n",
              "<style scoped>\n",
              "    .dataframe tbody tr th:only-of-type {\n",
              "        vertical-align: middle;\n",
              "    }\n",
              "\n",
              "    .dataframe tbody tr th {\n",
              "        vertical-align: top;\n",
              "    }\n",
              "\n",
              "    .dataframe thead th {\n",
              "        text-align: right;\n",
              "    }\n",
              "</style>\n",
              "<table border=\"1\" class=\"dataframe\">\n",
              "  <thead>\n",
              "    <tr style=\"text-align: right;\">\n",
              "      <th></th>\n",
              "      <th>Name</th>\n",
              "      <th>Platform</th>\n",
              "      <th>Year_of_Release</th>\n",
              "      <th>Genre</th>\n",
              "      <th>Publisher</th>\n",
              "      <th>NA_Sales</th>\n",
              "      <th>EU_Sales</th>\n",
              "      <th>JP_Sales</th>\n",
              "      <th>Other_Sales</th>\n",
              "      <th>Global_Sales</th>\n",
              "      <th>Critic_Score</th>\n",
              "      <th>Critic_Count</th>\n",
              "      <th>User_Score</th>\n",
              "      <th>User_Count</th>\n",
              "      <th>Developer</th>\n",
              "      <th>Rating</th>\n",
              "    </tr>\n",
              "  </thead>\n",
              "  <tbody>\n",
              "    <tr>\n",
              "      <th>16717</th>\n",
              "      <td>Spirits &amp; Spells</td>\n",
              "      <td>GBA</td>\n",
              "      <td>2003.0</td>\n",
              "      <td>Platform</td>\n",
              "      <td>Wanadoo</td>\n",
              "      <td>0.01</td>\n",
              "      <td>0.00</td>\n",
              "      <td>0.00</td>\n",
              "      <td>0.00</td>\n",
              "      <td>0.01</td>\n",
              "      <td>NaN</td>\n",
              "      <td>NaN</td>\n",
              "      <td>NaN</td>\n",
              "      <td>NaN</td>\n",
              "      <td>NaN</td>\n",
              "      <td>NaN</td>\n",
              "    </tr>\n",
              "    <tr>\n",
              "      <th>1762</th>\n",
              "      <td>Wario Land: Shake It!</td>\n",
              "      <td>Wii</td>\n",
              "      <td>2008.0</td>\n",
              "      <td>Platform</td>\n",
              "      <td>Nintendo</td>\n",
              "      <td>0.59</td>\n",
              "      <td>0.31</td>\n",
              "      <td>0.15</td>\n",
              "      <td>0.10</td>\n",
              "      <td>1.15</td>\n",
              "      <td>NaN</td>\n",
              "      <td>NaN</td>\n",
              "      <td>NaN</td>\n",
              "      <td>NaN</td>\n",
              "      <td>NaN</td>\n",
              "      <td>NaN</td>\n",
              "    </tr>\n",
              "    <tr>\n",
              "      <th>7762</th>\n",
              "      <td>Just Dance: Greatest Hits</td>\n",
              "      <td>Wii</td>\n",
              "      <td>2012.0</td>\n",
              "      <td>Misc</td>\n",
              "      <td>Ubisoft</td>\n",
              "      <td>0.14</td>\n",
              "      <td>0.04</td>\n",
              "      <td>0.00</td>\n",
              "      <td>0.01</td>\n",
              "      <td>0.19</td>\n",
              "      <td>NaN</td>\n",
              "      <td>NaN</td>\n",
              "      <td>tbd</td>\n",
              "      <td>NaN</td>\n",
              "      <td>Ubisoft</td>\n",
              "      <td>E10+</td>\n",
              "    </tr>\n",
              "    <tr>\n",
              "      <th>2062</th>\n",
              "      <td>1942</td>\n",
              "      <td>NES</td>\n",
              "      <td>1985.0</td>\n",
              "      <td>Shooter</td>\n",
              "      <td>Capcom</td>\n",
              "      <td>0.65</td>\n",
              "      <td>0.14</td>\n",
              "      <td>0.21</td>\n",
              "      <td>0.00</td>\n",
              "      <td>1.00</td>\n",
              "      <td>NaN</td>\n",
              "      <td>NaN</td>\n",
              "      <td>NaN</td>\n",
              "      <td>NaN</td>\n",
              "      <td>NaN</td>\n",
              "      <td>NaN</td>\n",
              "    </tr>\n",
              "    <tr>\n",
              "      <th>4008</th>\n",
              "      <td>Ridge Racer 3D</td>\n",
              "      <td>3DS</td>\n",
              "      <td>2011.0</td>\n",
              "      <td>Racing</td>\n",
              "      <td>Namco Bandai Games</td>\n",
              "      <td>0.19</td>\n",
              "      <td>0.15</td>\n",
              "      <td>0.12</td>\n",
              "      <td>0.03</td>\n",
              "      <td>0.49</td>\n",
              "      <td>75.0</td>\n",
              "      <td>59.0</td>\n",
              "      <td>7.2</td>\n",
              "      <td>56.0</td>\n",
              "      <td>Namco Bandai Games</td>\n",
              "      <td>E</td>\n",
              "    </tr>\n",
              "    <tr>\n",
              "      <th>8983</th>\n",
              "      <td>Elf: The Movie</td>\n",
              "      <td>GBA</td>\n",
              "      <td>2004.0</td>\n",
              "      <td>Action</td>\n",
              "      <td>Crave Entertainment</td>\n",
              "      <td>0.10</td>\n",
              "      <td>0.04</td>\n",
              "      <td>0.00</td>\n",
              "      <td>0.00</td>\n",
              "      <td>0.15</td>\n",
              "      <td>NaN</td>\n",
              "      <td>NaN</td>\n",
              "      <td>tbd</td>\n",
              "      <td>NaN</td>\n",
              "      <td>Human Soft</td>\n",
              "      <td>E</td>\n",
              "    </tr>\n",
              "    <tr>\n",
              "      <th>5093</th>\n",
              "      <td>High Heat Major League Baseball 2003</td>\n",
              "      <td>PS2</td>\n",
              "      <td>2002.0</td>\n",
              "      <td>Sports</td>\n",
              "      <td>3DO</td>\n",
              "      <td>0.18</td>\n",
              "      <td>0.14</td>\n",
              "      <td>0.00</td>\n",
              "      <td>0.05</td>\n",
              "      <td>0.37</td>\n",
              "      <td>84.0</td>\n",
              "      <td>23.0</td>\n",
              "      <td>7.9</td>\n",
              "      <td>7.0</td>\n",
              "      <td>3DO</td>\n",
              "      <td>E</td>\n",
              "    </tr>\n",
              "    <tr>\n",
              "      <th>1845</th>\n",
              "      <td>Legend of Mana</td>\n",
              "      <td>PS</td>\n",
              "      <td>1999.0</td>\n",
              "      <td>Role-Playing</td>\n",
              "      <td>SquareSoft</td>\n",
              "      <td>0.18</td>\n",
              "      <td>0.13</td>\n",
              "      <td>0.73</td>\n",
              "      <td>0.07</td>\n",
              "      <td>1.11</td>\n",
              "      <td>NaN</td>\n",
              "      <td>NaN</td>\n",
              "      <td>NaN</td>\n",
              "      <td>NaN</td>\n",
              "      <td>NaN</td>\n",
              "      <td>NaN</td>\n",
              "    </tr>\n",
              "    <tr>\n",
              "      <th>1731</th>\n",
              "      <td>Fallout: New Vegas</td>\n",
              "      <td>PC</td>\n",
              "      <td>2010.0</td>\n",
              "      <td>Role-Playing</td>\n",
              "      <td>Bethesda Softworks</td>\n",
              "      <td>0.59</td>\n",
              "      <td>0.45</td>\n",
              "      <td>0.00</td>\n",
              "      <td>0.14</td>\n",
              "      <td>1.17</td>\n",
              "      <td>84.0</td>\n",
              "      <td>39.0</td>\n",
              "      <td>8.6</td>\n",
              "      <td>2754.0</td>\n",
              "      <td>Obsidian Entertainment</td>\n",
              "      <td>M</td>\n",
              "    </tr>\n",
              "    <tr>\n",
              "      <th>15525</th>\n",
              "      <td>Malice</td>\n",
              "      <td>PS2</td>\n",
              "      <td>2004.0</td>\n",
              "      <td>Platform</td>\n",
              "      <td>Evolved Games</td>\n",
              "      <td>0.01</td>\n",
              "      <td>0.01</td>\n",
              "      <td>0.00</td>\n",
              "      <td>0.00</td>\n",
              "      <td>0.02</td>\n",
              "      <td>51.0</td>\n",
              "      <td>11.0</td>\n",
              "      <td>tbd</td>\n",
              "      <td>NaN</td>\n",
              "      <td>Argonaut Games</td>\n",
              "      <td>T</td>\n",
              "    </tr>\n",
              "  </tbody>\n",
              "</table>\n",
              "</div>"
            ],
            "text/plain": [
              "                                       Name  ... Rating\n",
              "16717                      Spirits & Spells  ...    NaN\n",
              "1762                  Wario Land: Shake It!  ...    NaN\n",
              "7762              Just Dance: Greatest Hits  ...   E10+\n",
              "2062                                   1942  ...    NaN\n",
              "4008                         Ridge Racer 3D  ...      E\n",
              "8983                         Elf: The Movie  ...      E\n",
              "5093   High Heat Major League Baseball 2003  ...      E\n",
              "1845                         Legend of Mana  ...    NaN\n",
              "1731                     Fallout: New Vegas  ...      M\n",
              "15525                                Malice  ...      T\n",
              "\n",
              "[10 rows x 16 columns]"
            ]
          },
          "metadata": {},
          "execution_count": 4
        }
      ]
    },
    {
      "cell_type": "code",
      "metadata": {
        "colab": {
          "base_uri": "https://localhost:8080/"
        },
        "id": "YeECAoU2JAoJ",
        "outputId": "6b8409bb-fb86-47c4-a5f5-68c901831e78"
      },
      "source": [
        "df.shape"
      ],
      "execution_count": 5,
      "outputs": [
        {
          "output_type": "execute_result",
          "data": {
            "text/plain": [
              "(16719, 16)"
            ]
          },
          "metadata": {},
          "execution_count": 5
        }
      ]
    },
    {
      "cell_type": "code",
      "metadata": {
        "colab": {
          "base_uri": "https://localhost:8080/",
          "height": 326
        },
        "id": "isOw4D_5JArD",
        "outputId": "bae6c92e-5a80-42a2-a444-0a5c166b8af4"
      },
      "source": [
        "df.corr()"
      ],
      "execution_count": 6,
      "outputs": [
        {
          "output_type": "execute_result",
          "data": {
            "text/html": [
              "<div>\n",
              "<style scoped>\n",
              "    .dataframe tbody tr th:only-of-type {\n",
              "        vertical-align: middle;\n",
              "    }\n",
              "\n",
              "    .dataframe tbody tr th {\n",
              "        vertical-align: top;\n",
              "    }\n",
              "\n",
              "    .dataframe thead th {\n",
              "        text-align: right;\n",
              "    }\n",
              "</style>\n",
              "<table border=\"1\" class=\"dataframe\">\n",
              "  <thead>\n",
              "    <tr style=\"text-align: right;\">\n",
              "      <th></th>\n",
              "      <th>Year_of_Release</th>\n",
              "      <th>NA_Sales</th>\n",
              "      <th>EU_Sales</th>\n",
              "      <th>JP_Sales</th>\n",
              "      <th>Other_Sales</th>\n",
              "      <th>Global_Sales</th>\n",
              "      <th>Critic_Score</th>\n",
              "      <th>Critic_Count</th>\n",
              "      <th>User_Count</th>\n",
              "    </tr>\n",
              "  </thead>\n",
              "  <tbody>\n",
              "    <tr>\n",
              "      <th>Year_of_Release</th>\n",
              "      <td>1.000000</td>\n",
              "      <td>-0.092562</td>\n",
              "      <td>0.003842</td>\n",
              "      <td>-0.168386</td>\n",
              "      <td>0.037700</td>\n",
              "      <td>-0.076433</td>\n",
              "      <td>0.011411</td>\n",
              "      <td>0.223407</td>\n",
              "      <td>0.175339</td>\n",
              "    </tr>\n",
              "    <tr>\n",
              "      <th>NA_Sales</th>\n",
              "      <td>-0.092562</td>\n",
              "      <td>1.000000</td>\n",
              "      <td>0.765336</td>\n",
              "      <td>0.449598</td>\n",
              "      <td>0.638654</td>\n",
              "      <td>0.941010</td>\n",
              "      <td>0.240755</td>\n",
              "      <td>0.295413</td>\n",
              "      <td>0.246429</td>\n",
              "    </tr>\n",
              "    <tr>\n",
              "      <th>EU_Sales</th>\n",
              "      <td>0.003842</td>\n",
              "      <td>0.765336</td>\n",
              "      <td>1.000000</td>\n",
              "      <td>0.435068</td>\n",
              "      <td>0.722796</td>\n",
              "      <td>0.901239</td>\n",
              "      <td>0.220752</td>\n",
              "      <td>0.277533</td>\n",
              "      <td>0.283360</td>\n",
              "    </tr>\n",
              "    <tr>\n",
              "      <th>JP_Sales</th>\n",
              "      <td>-0.168386</td>\n",
              "      <td>0.449598</td>\n",
              "      <td>0.435068</td>\n",
              "      <td>1.000000</td>\n",
              "      <td>0.291096</td>\n",
              "      <td>0.612300</td>\n",
              "      <td>0.152593</td>\n",
              "      <td>0.180219</td>\n",
              "      <td>0.075638</td>\n",
              "    </tr>\n",
              "    <tr>\n",
              "      <th>Other_Sales</th>\n",
              "      <td>0.037700</td>\n",
              "      <td>0.638654</td>\n",
              "      <td>0.722796</td>\n",
              "      <td>0.291096</td>\n",
              "      <td>1.000000</td>\n",
              "      <td>0.749242</td>\n",
              "      <td>0.198554</td>\n",
              "      <td>0.251639</td>\n",
              "      <td>0.238982</td>\n",
              "    </tr>\n",
              "    <tr>\n",
              "      <th>Global_Sales</th>\n",
              "      <td>-0.076433</td>\n",
              "      <td>0.941010</td>\n",
              "      <td>0.901239</td>\n",
              "      <td>0.612300</td>\n",
              "      <td>0.749242</td>\n",
              "      <td>1.000000</td>\n",
              "      <td>0.245471</td>\n",
              "      <td>0.303571</td>\n",
              "      <td>0.265012</td>\n",
              "    </tr>\n",
              "    <tr>\n",
              "      <th>Critic_Score</th>\n",
              "      <td>0.011411</td>\n",
              "      <td>0.240755</td>\n",
              "      <td>0.220752</td>\n",
              "      <td>0.152593</td>\n",
              "      <td>0.198554</td>\n",
              "      <td>0.245471</td>\n",
              "      <td>1.000000</td>\n",
              "      <td>0.425504</td>\n",
              "      <td>0.264376</td>\n",
              "    </tr>\n",
              "    <tr>\n",
              "      <th>Critic_Count</th>\n",
              "      <td>0.223407</td>\n",
              "      <td>0.295413</td>\n",
              "      <td>0.277533</td>\n",
              "      <td>0.180219</td>\n",
              "      <td>0.251639</td>\n",
              "      <td>0.303571</td>\n",
              "      <td>0.425504</td>\n",
              "      <td>1.000000</td>\n",
              "      <td>0.362334</td>\n",
              "    </tr>\n",
              "    <tr>\n",
              "      <th>User_Count</th>\n",
              "      <td>0.175339</td>\n",
              "      <td>0.246429</td>\n",
              "      <td>0.283360</td>\n",
              "      <td>0.075638</td>\n",
              "      <td>0.238982</td>\n",
              "      <td>0.265012</td>\n",
              "      <td>0.264376</td>\n",
              "      <td>0.362334</td>\n",
              "      <td>1.000000</td>\n",
              "    </tr>\n",
              "  </tbody>\n",
              "</table>\n",
              "</div>"
            ],
            "text/plain": [
              "                 Year_of_Release  NA_Sales  ...  Critic_Count  User_Count\n",
              "Year_of_Release         1.000000 -0.092562  ...      0.223407    0.175339\n",
              "NA_Sales               -0.092562  1.000000  ...      0.295413    0.246429\n",
              "EU_Sales                0.003842  0.765336  ...      0.277533    0.283360\n",
              "JP_Sales               -0.168386  0.449598  ...      0.180219    0.075638\n",
              "Other_Sales             0.037700  0.638654  ...      0.251639    0.238982\n",
              "Global_Sales           -0.076433  0.941010  ...      0.303571    0.265012\n",
              "Critic_Score            0.011411  0.240755  ...      0.425504    0.264376\n",
              "Critic_Count            0.223407  0.295413  ...      1.000000    0.362334\n",
              "User_Count              0.175339  0.246429  ...      0.362334    1.000000\n",
              "\n",
              "[9 rows x 9 columns]"
            ]
          },
          "metadata": {},
          "execution_count": 6
        }
      ]
    },
    {
      "cell_type": "code",
      "metadata": {
        "colab": {
          "base_uri": "https://localhost:8080/"
        },
        "id": "LMN4KoWHJAuy",
        "outputId": "6e3251f1-9c56-484c-e88d-5cce7badc26c"
      },
      "source": [
        "df.info()"
      ],
      "execution_count": 7,
      "outputs": [
        {
          "output_type": "stream",
          "name": "stdout",
          "text": [
            "<class 'pandas.core.frame.DataFrame'>\n",
            "RangeIndex: 16719 entries, 0 to 16718\n",
            "Data columns (total 16 columns):\n",
            " #   Column           Non-Null Count  Dtype  \n",
            "---  ------           --------------  -----  \n",
            " 0   Name             16717 non-null  object \n",
            " 1   Platform         16719 non-null  object \n",
            " 2   Year_of_Release  16450 non-null  float64\n",
            " 3   Genre            16717 non-null  object \n",
            " 4   Publisher        16665 non-null  object \n",
            " 5   NA_Sales         16719 non-null  float64\n",
            " 6   EU_Sales         16719 non-null  float64\n",
            " 7   JP_Sales         16719 non-null  float64\n",
            " 8   Other_Sales      16719 non-null  float64\n",
            " 9   Global_Sales     16719 non-null  float64\n",
            " 10  Critic_Score     8137 non-null   float64\n",
            " 11  Critic_Count     8137 non-null   float64\n",
            " 12  User_Score       10015 non-null  object \n",
            " 13  User_Count       7590 non-null   float64\n",
            " 14  Developer        10096 non-null  object \n",
            " 15  Rating           9950 non-null   object \n",
            "dtypes: float64(9), object(7)\n",
            "memory usage: 2.0+ MB\n"
          ]
        }
      ]
    },
    {
      "cell_type": "code",
      "metadata": {
        "colab": {
          "base_uri": "https://localhost:8080/"
        },
        "id": "qI6xIV8KJAxG",
        "outputId": "02bdd495-fb7e-4ae5-9af7-a66ef3816e47"
      },
      "source": [
        "df.isna().sum()   #total null values"
      ],
      "execution_count": 8,
      "outputs": [
        {
          "output_type": "execute_result",
          "data": {
            "text/plain": [
              "Name                  2\n",
              "Platform              0\n",
              "Year_of_Release     269\n",
              "Genre                 2\n",
              "Publisher            54\n",
              "NA_Sales              0\n",
              "EU_Sales              0\n",
              "JP_Sales              0\n",
              "Other_Sales           0\n",
              "Global_Sales          0\n",
              "Critic_Score       8582\n",
              "Critic_Count       8582\n",
              "User_Score         6704\n",
              "User_Count         9129\n",
              "Developer          6623\n",
              "Rating             6769\n",
              "dtype: int64"
            ]
          },
          "metadata": {},
          "execution_count": 8
        }
      ]
    },
    {
      "cell_type": "code",
      "metadata": {
        "id": "AP8r40PCJAzR"
      },
      "source": [
        "df['User_Score'] = df['User_Score'].replace('tbd', None)   #Replacing tbd in user score with null"
      ],
      "execution_count": 9,
      "outputs": []
    },
    {
      "cell_type": "code",
      "metadata": {
        "colab": {
          "base_uri": "https://localhost:8080/"
        },
        "id": "08VBvdcvJA2z",
        "outputId": "8926aaac-bba0-4cbe-9711-288b9f8fc64d"
      },
      "source": [
        "print(df['Platform'].value_counts())   #Unique values in platform"
      ],
      "execution_count": 10,
      "outputs": [
        {
          "output_type": "stream",
          "name": "stdout",
          "text": [
            "PS2     2161\n",
            "DS      2152\n",
            "PS3     1331\n",
            "Wii     1320\n",
            "X360    1262\n",
            "PSP     1209\n",
            "PS      1197\n",
            "PC       974\n",
            "XB       824\n",
            "GBA      822\n",
            "GC       556\n",
            "3DS      520\n",
            "PSV      432\n",
            "PS4      393\n",
            "N64      319\n",
            "XOne     247\n",
            "SNES     239\n",
            "SAT      173\n",
            "WiiU     147\n",
            "2600     133\n",
            "NES       98\n",
            "GB        98\n",
            "DC        52\n",
            "GEN       29\n",
            "NG        12\n",
            "SCD        6\n",
            "WS         6\n",
            "3DO        3\n",
            "TG16       2\n",
            "GG         1\n",
            "PCFX       1\n",
            "Name: Platform, dtype: int64\n"
          ]
        }
      ]
    },
    {
      "cell_type": "code",
      "metadata": {
        "colab": {
          "base_uri": "https://localhost:8080/",
          "height": 1000
        },
        "id": "N5sgC_AUJA4y",
        "outputId": "9c195177-775b-4828-a8e2-6fda8ac756fe"
      },
      "source": [
        "platform = df[['Platform', 'Critic_Score']]\n",
        "platform.groupby(by=['Platform']).count()\n",
        "#Finding not null critic score for each platform so that those can be excluded"
      ],
      "execution_count": 11,
      "outputs": [
        {
          "output_type": "execute_result",
          "data": {
            "text/html": [
              "<div>\n",
              "<style scoped>\n",
              "    .dataframe tbody tr th:only-of-type {\n",
              "        vertical-align: middle;\n",
              "    }\n",
              "\n",
              "    .dataframe tbody tr th {\n",
              "        vertical-align: top;\n",
              "    }\n",
              "\n",
              "    .dataframe thead th {\n",
              "        text-align: right;\n",
              "    }\n",
              "</style>\n",
              "<table border=\"1\" class=\"dataframe\">\n",
              "  <thead>\n",
              "    <tr style=\"text-align: right;\">\n",
              "      <th></th>\n",
              "      <th>Critic_Score</th>\n",
              "    </tr>\n",
              "    <tr>\n",
              "      <th>Platform</th>\n",
              "      <th></th>\n",
              "    </tr>\n",
              "  </thead>\n",
              "  <tbody>\n",
              "    <tr>\n",
              "      <th>2600</th>\n",
              "      <td>0</td>\n",
              "    </tr>\n",
              "    <tr>\n",
              "      <th>3DO</th>\n",
              "      <td>0</td>\n",
              "    </tr>\n",
              "    <tr>\n",
              "      <th>3DS</th>\n",
              "      <td>168</td>\n",
              "    </tr>\n",
              "    <tr>\n",
              "      <th>DC</th>\n",
              "      <td>14</td>\n",
              "    </tr>\n",
              "    <tr>\n",
              "      <th>DS</th>\n",
              "      <td>717</td>\n",
              "    </tr>\n",
              "    <tr>\n",
              "      <th>GB</th>\n",
              "      <td>0</td>\n",
              "    </tr>\n",
              "    <tr>\n",
              "      <th>GBA</th>\n",
              "      <td>438</td>\n",
              "    </tr>\n",
              "    <tr>\n",
              "      <th>GC</th>\n",
              "      <td>448</td>\n",
              "    </tr>\n",
              "    <tr>\n",
              "      <th>GEN</th>\n",
              "      <td>0</td>\n",
              "    </tr>\n",
              "    <tr>\n",
              "      <th>GG</th>\n",
              "      <td>0</td>\n",
              "    </tr>\n",
              "    <tr>\n",
              "      <th>N64</th>\n",
              "      <td>0</td>\n",
              "    </tr>\n",
              "    <tr>\n",
              "      <th>NES</th>\n",
              "      <td>0</td>\n",
              "    </tr>\n",
              "    <tr>\n",
              "      <th>NG</th>\n",
              "      <td>0</td>\n",
              "    </tr>\n",
              "    <tr>\n",
              "      <th>PC</th>\n",
              "      <td>715</td>\n",
              "    </tr>\n",
              "    <tr>\n",
              "      <th>PCFX</th>\n",
              "      <td>0</td>\n",
              "    </tr>\n",
              "    <tr>\n",
              "      <th>PS</th>\n",
              "      <td>200</td>\n",
              "    </tr>\n",
              "    <tr>\n",
              "      <th>PS2</th>\n",
              "      <td>1298</td>\n",
              "    </tr>\n",
              "    <tr>\n",
              "      <th>PS3</th>\n",
              "      <td>820</td>\n",
              "    </tr>\n",
              "    <tr>\n",
              "      <th>PS4</th>\n",
              "      <td>252</td>\n",
              "    </tr>\n",
              "    <tr>\n",
              "      <th>PSP</th>\n",
              "      <td>462</td>\n",
              "    </tr>\n",
              "    <tr>\n",
              "      <th>PSV</th>\n",
              "      <td>120</td>\n",
              "    </tr>\n",
              "    <tr>\n",
              "      <th>SAT</th>\n",
              "      <td>0</td>\n",
              "    </tr>\n",
              "    <tr>\n",
              "      <th>SCD</th>\n",
              "      <td>0</td>\n",
              "    </tr>\n",
              "    <tr>\n",
              "      <th>SNES</th>\n",
              "      <td>0</td>\n",
              "    </tr>\n",
              "    <tr>\n",
              "      <th>TG16</th>\n",
              "      <td>0</td>\n",
              "    </tr>\n",
              "    <tr>\n",
              "      <th>WS</th>\n",
              "      <td>0</td>\n",
              "    </tr>\n",
              "    <tr>\n",
              "      <th>Wii</th>\n",
              "      <td>585</td>\n",
              "    </tr>\n",
              "    <tr>\n",
              "      <th>WiiU</th>\n",
              "      <td>90</td>\n",
              "    </tr>\n",
              "    <tr>\n",
              "      <th>X360</th>\n",
              "      <td>916</td>\n",
              "    </tr>\n",
              "    <tr>\n",
              "      <th>XB</th>\n",
              "      <td>725</td>\n",
              "    </tr>\n",
              "    <tr>\n",
              "      <th>XOne</th>\n",
              "      <td>169</td>\n",
              "    </tr>\n",
              "  </tbody>\n",
              "</table>\n",
              "</div>"
            ],
            "text/plain": [
              "          Critic_Score\n",
              "Platform              \n",
              "2600                 0\n",
              "3DO                  0\n",
              "3DS                168\n",
              "DC                  14\n",
              "DS                 717\n",
              "GB                   0\n",
              "GBA                438\n",
              "GC                 448\n",
              "GEN                  0\n",
              "GG                   0\n",
              "N64                  0\n",
              "NES                  0\n",
              "NG                   0\n",
              "PC                 715\n",
              "PCFX                 0\n",
              "PS                 200\n",
              "PS2               1298\n",
              "PS3                820\n",
              "PS4                252\n",
              "PSP                462\n",
              "PSV                120\n",
              "SAT                  0\n",
              "SCD                  0\n",
              "SNES                 0\n",
              "TG16                 0\n",
              "WS                   0\n",
              "Wii                585\n",
              "WiiU                90\n",
              "X360               916\n",
              "XB                 725\n",
              "XOne               169"
            ]
          },
          "metadata": {},
          "execution_count": 11
        }
      ]
    },
    {
      "cell_type": "code",
      "metadata": {
        "colab": {
          "base_uri": "https://localhost:8080/"
        },
        "id": "I3wG3lqFJA6K",
        "outputId": "36c534b7-cc6a-43ba-bb55-da042130eecb"
      },
      "source": [
        "print(df['Genre'].value_counts()) #Checking total not null values"
      ],
      "execution_count": 12,
      "outputs": [
        {
          "output_type": "stream",
          "name": "stdout",
          "text": [
            "Action          3370\n",
            "Sports          2348\n",
            "Misc            1750\n",
            "Role-Playing    1500\n",
            "Shooter         1323\n",
            "Adventure       1303\n",
            "Racing          1249\n",
            "Platform         888\n",
            "Simulation       874\n",
            "Fighting         849\n",
            "Strategy         683\n",
            "Puzzle           580\n",
            "Name: Genre, dtype: int64\n"
          ]
        }
      ]
    },
    {
      "cell_type": "code",
      "metadata": {
        "colab": {
          "base_uri": "https://localhost:8080/"
        },
        "id": "99fqqk5jJA7Y",
        "outputId": "e3dd26f1-31f3-491c-d735-a6575fcf1904"
      },
      "source": [
        "print(df['Publisher'].value_counts())"
      ],
      "execution_count": 13,
      "outputs": [
        {
          "output_type": "stream",
          "name": "stdout",
          "text": [
            "Electronic Arts                 1356\n",
            "Activision                       985\n",
            "Namco Bandai Games               939\n",
            "Ubisoft                          933\n",
            "Konami Digital Entertainment     834\n",
            "                                ... \n",
            "Ertain                             1\n",
            "Interchannel-Holon                 1\n",
            "Warp                               1\n",
            "Bohemia Interactive                1\n",
            "WayForward Technologies            1\n",
            "Name: Publisher, Length: 581, dtype: int64\n"
          ]
        }
      ]
    },
    {
      "cell_type": "markdown",
      "metadata": {
        "id": "mV8i1rKdLnJJ"
      },
      "source": [
        "Publisher has lots of values."
      ]
    },
    {
      "cell_type": "code",
      "metadata": {
        "colab": {
          "base_uri": "https://localhost:8080/"
        },
        "id": "funHUh-TJA8-",
        "outputId": "425c88a1-72e6-45c6-fa45-855b97f9f3aa"
      },
      "source": [
        "print(df['Rating'].value_counts())"
      ],
      "execution_count": 14,
      "outputs": [
        {
          "output_type": "stream",
          "name": "stdout",
          "text": [
            "E       3991\n",
            "T       2961\n",
            "M       1563\n",
            "E10+    1420\n",
            "EC         8\n",
            "K-A        3\n",
            "RP         3\n",
            "AO         1\n",
            "Name: Rating, dtype: int64\n"
          ]
        }
      ]
    },
    {
      "cell_type": "code",
      "metadata": {
        "colab": {
          "base_uri": "https://localhost:8080/"
        },
        "id": "Y7zg4qqwJA-V",
        "outputId": "800fd91e-9b9a-4680-803e-a72f074dad13"
      },
      "source": [
        "print(df['Developer'].value_counts())\n"
      ],
      "execution_count": 15,
      "outputs": [
        {
          "output_type": "stream",
          "name": "stdout",
          "text": [
            "Ubisoft                             204\n",
            "EA Sports                           172\n",
            "EA Canada                           167\n",
            "Konami                              162\n",
            "Capcom                              139\n",
            "                                   ... \n",
            "Konami Software Shanghai              1\n",
            "EA Mythic                             1\n",
            "Buka Entertainment, Targem Games      1\n",
            "Hoget                                 1\n",
            "Fresh 3D                              1\n",
            "Name: Developer, Length: 1696, dtype: int64\n"
          ]
        }
      ]
    },
    {
      "cell_type": "markdown",
      "metadata": {
        "id": "V8WkOAzXJySd"
      },
      "source": [
        "Developer has lots of values."
      ]
    },
    {
      "cell_type": "code",
      "metadata": {
        "id": "N9kjXM4CJA_2"
      },
      "source": [
        "df_curr = df[(df['Platform'] == '3DS') | (df['Platform'] == 'DS') | (df['Platform'] == 'GBA') | (df['Platform'] == 'GC') | (df['Platform'] == 'PC') | (df['Platform'] == 'PS') | (df['Platform'] == 'PS2') | (df['Platform'] == 'PS3') | (df['Platform'] == 'PS4') | (df['Platform'] == 'PSP') | (df['Platform'] == 'PSV') | (df['Platform'] == 'Wii') | (df['Platform'] == 'WiiU') | (df['Platform'] == 'X360') | (df['Platform'] == 'XB') | (df['Platform'] == 'XOne')]\n",
        "#Using only relevant columns"
      ],
      "execution_count": 16,
      "outputs": []
    },
    {
      "cell_type": "code",
      "metadata": {
        "colab": {
          "base_uri": "https://localhost:8080/",
          "height": 573
        },
        "id": "xrAuv6r_J4H6",
        "outputId": "f36d3a4d-e293-451a-edde-e095424a9d05"
      },
      "source": [
        "platform = df_curr[['Platform', 'Critic_Score']]\n",
        "platform.groupby(by=['Platform']).count()\n",
        "#Checking values of critic_score in platform"
      ],
      "execution_count": 17,
      "outputs": [
        {
          "output_type": "execute_result",
          "data": {
            "text/html": [
              "<div>\n",
              "<style scoped>\n",
              "    .dataframe tbody tr th:only-of-type {\n",
              "        vertical-align: middle;\n",
              "    }\n",
              "\n",
              "    .dataframe tbody tr th {\n",
              "        vertical-align: top;\n",
              "    }\n",
              "\n",
              "    .dataframe thead th {\n",
              "        text-align: right;\n",
              "    }\n",
              "</style>\n",
              "<table border=\"1\" class=\"dataframe\">\n",
              "  <thead>\n",
              "    <tr style=\"text-align: right;\">\n",
              "      <th></th>\n",
              "      <th>Critic_Score</th>\n",
              "    </tr>\n",
              "    <tr>\n",
              "      <th>Platform</th>\n",
              "      <th></th>\n",
              "    </tr>\n",
              "  </thead>\n",
              "  <tbody>\n",
              "    <tr>\n",
              "      <th>3DS</th>\n",
              "      <td>168</td>\n",
              "    </tr>\n",
              "    <tr>\n",
              "      <th>DS</th>\n",
              "      <td>717</td>\n",
              "    </tr>\n",
              "    <tr>\n",
              "      <th>GBA</th>\n",
              "      <td>438</td>\n",
              "    </tr>\n",
              "    <tr>\n",
              "      <th>GC</th>\n",
              "      <td>448</td>\n",
              "    </tr>\n",
              "    <tr>\n",
              "      <th>PC</th>\n",
              "      <td>715</td>\n",
              "    </tr>\n",
              "    <tr>\n",
              "      <th>PS</th>\n",
              "      <td>200</td>\n",
              "    </tr>\n",
              "    <tr>\n",
              "      <th>PS2</th>\n",
              "      <td>1298</td>\n",
              "    </tr>\n",
              "    <tr>\n",
              "      <th>PS3</th>\n",
              "      <td>820</td>\n",
              "    </tr>\n",
              "    <tr>\n",
              "      <th>PS4</th>\n",
              "      <td>252</td>\n",
              "    </tr>\n",
              "    <tr>\n",
              "      <th>PSP</th>\n",
              "      <td>462</td>\n",
              "    </tr>\n",
              "    <tr>\n",
              "      <th>PSV</th>\n",
              "      <td>120</td>\n",
              "    </tr>\n",
              "    <tr>\n",
              "      <th>Wii</th>\n",
              "      <td>585</td>\n",
              "    </tr>\n",
              "    <tr>\n",
              "      <th>WiiU</th>\n",
              "      <td>90</td>\n",
              "    </tr>\n",
              "    <tr>\n",
              "      <th>X360</th>\n",
              "      <td>916</td>\n",
              "    </tr>\n",
              "    <tr>\n",
              "      <th>XB</th>\n",
              "      <td>725</td>\n",
              "    </tr>\n",
              "    <tr>\n",
              "      <th>XOne</th>\n",
              "      <td>169</td>\n",
              "    </tr>\n",
              "  </tbody>\n",
              "</table>\n",
              "</div>"
            ],
            "text/plain": [
              "          Critic_Score\n",
              "Platform              \n",
              "3DS                168\n",
              "DS                 717\n",
              "GBA                438\n",
              "GC                 448\n",
              "PC                 715\n",
              "PS                 200\n",
              "PS2               1298\n",
              "PS3                820\n",
              "PS4                252\n",
              "PSP                462\n",
              "PSV                120\n",
              "Wii                585\n",
              "WiiU                90\n",
              "X360               916\n",
              "XB                 725\n",
              "XOne               169"
            ]
          },
          "metadata": {},
          "execution_count": 17
        }
      ]
    },
    {
      "cell_type": "code",
      "metadata": {
        "colab": {
          "base_uri": "https://localhost:8080/"
        },
        "id": "S81TQltQJ4Js",
        "outputId": "606feca1-f777-490d-9f82-5698f61f7340"
      },
      "source": [
        "df_curr.isna().sum() #Checking total null values again"
      ],
      "execution_count": 18,
      "outputs": [
        {
          "output_type": "execute_result",
          "data": {
            "text/plain": [
              "Name                  0\n",
              "Platform              0\n",
              "Year_of_Release     248\n",
              "Genre                 0\n",
              "Publisher            54\n",
              "NA_Sales              0\n",
              "EU_Sales              0\n",
              "JP_Sales              0\n",
              "Other_Sales           0\n",
              "Global_Sales          0\n",
              "Critic_Score       7424\n",
              "Critic_Count       7424\n",
              "User_Score         6801\n",
              "User_Count         7971\n",
              "Developer          5465\n",
              "Rating             5611\n",
              "dtype: int64"
            ]
          },
          "metadata": {},
          "execution_count": 18
        }
      ]
    },
    {
      "cell_type": "code",
      "metadata": {
        "id": "_dNsuJT7J4Lo"
      },
      "source": [
        "df = df_curr[df_curr['Critic_Score'].notna()]\n",
        "#Removed since there were lots of nulls"
      ],
      "execution_count": 19,
      "outputs": []
    },
    {
      "cell_type": "code",
      "metadata": {
        "colab": {
          "base_uri": "https://localhost:8080/"
        },
        "id": "sn7VdY0tJ4N4",
        "outputId": "156a232e-0411-4a96-fe02-da770107b398"
      },
      "source": [
        "df.shape\n",
        "#Final Shape"
      ],
      "execution_count": 20,
      "outputs": [
        {
          "output_type": "execute_result",
          "data": {
            "text/plain": [
              "(8123, 16)"
            ]
          },
          "metadata": {},
          "execution_count": 20
        }
      ]
    },
    {
      "cell_type": "code",
      "metadata": {
        "id": "A0bUs5NtJ4QK"
      },
      "source": [
        "df = df.drop(['Name', 'Publisher', 'Developer', 'User_Count','JP_Sales','NA_Sales','EU_Sales'], axis = 1)  #Removing useless columns\n",
        "df['Year_of_Release'] = df['Year_of_Release'].fillna(df['Year_of_Release'].median())\n",
        "df['Critic_Count'] = df['Critic_Count'].fillna(df['Critic_Count'].median())\n",
        "df['User_Score'] = df['User_Score'].astype(float)\n",
        "df['User_Score'] = df['User_Score'].fillna(df['User_Score'].median())\n",
        "df['Rating'] = df['Rating'].fillna(df['Rating'].mode()[0])\n",
        "#Filling null values with a statistical measure"
      ],
      "execution_count": 21,
      "outputs": []
    },
    {
      "cell_type": "code",
      "metadata": {
        "id": "Ppul724zJ4R9"
      },
      "source": [
        "data = pd.get_dummies(data=df.copy(), columns=['Platform', 'Genre', 'Rating'])  #One Hot Encoding of data"
      ],
      "execution_count": 22,
      "outputs": []
    },
    {
      "cell_type": "code",
      "metadata": {
        "id": "6kTGMCKGJ4Tr"
      },
      "source": [
        "Ycol = [\"Global_Sales\"] #Setting target variable\n",
        "X_Col = list(data.columns)\n",
        "X_Col.remove(Ycol[0])\n",
        "X = data[X_Col]\n",
        "Y = data[Ycol]\n",
        "#Splitting into train and test set\n",
        "X_train, X_test, Y_train, Y_test = train_test_split(X, Y, random_state=12)\n",
        "#log scaling the values of target\n",
        "Y_train = np.log1p(Y_train)\n",
        "Y_test = np.log1p(Y_test)\n",
        "#Scaling data using min max scaler\n",
        "minmaxscaler =  MinMaxScaler()\n",
        "minmaxscaler.fit(X_train)\n",
        "\n",
        "X_train_final = minmaxscaler.transform(X_train) \n",
        "X_test_final = minmaxscaler.transform(X_test)"
      ],
      "execution_count": 23,
      "outputs": []
    },
    {
      "cell_type": "code",
      "metadata": {
        "colab": {
          "base_uri": "https://localhost:8080/",
          "height": 297
        },
        "id": "tiIvOcTPYi2N",
        "outputId": "c149e5d0-8e9b-48e4-f897-79be099e91a6"
      },
      "source": [
        "#validation curve for Ridge Regression\n",
        "\n",
        "parameter_range=np.arange(0.001,2,0.005)\n",
        "train_score, test_score=validation_curve(Ridge(), X_train_final,Y_train, param_name=\"alpha\", n_jobs=-1,\n",
        "      param_range=parameter_range, cv=6, scoring=\"r2\")\n",
        "mean_train_score = np.mean(train_score, axis = 1)\n",
        "std_train_score = np.std(train_score, axis = 1)\n",
        " \n",
        "# Calculating mean and standard deviation of testing score\n",
        "mean_test_score = np.mean(test_score, axis = 1)\n",
        "std_test_score = np.std(test_score, axis = 1)\n",
        " \n",
        "# Plot mean accuracy scores for training and testing scores\n",
        "plt.plot(parameter_range, mean_train_score,\n",
        "     label = \"Training Score\", color = 'b')\n",
        "plt.plot(parameter_range, mean_test_score,\n",
        "   label = \"Cross Validation Score\", color = 'g')\n",
        " \n",
        "# Creating the plot\n",
        "plt.ylabel(\"Accuracy\")\n",
        "plt.xlabel(\"alpha\")\n",
        "plt.tight_layout()\n",
        "plt.legend(loc = 'best')\n",
        "plt.show()"
      ],
      "execution_count": 24,
      "outputs": [
        {
          "output_type": "display_data",
          "data": {
            "image/png": "[encoded data removed]",
            "text/plain": [
              "<Figure size 432x288 with 1 Axes>"
            ]
          },
          "metadata": {
            "needs_background": "light"
          }
        }
      ]
    },
    {
      "cell_type": "code",
      "metadata": {
        "colab": {
          "base_uri": "https://localhost:8080/"
        },
        "id": "VZNpD2qxH6h9",
        "outputId": "2c097e62-144b-45a7-a683-606ce09786f8"
      },
      "source": [
        "#Linear Regression (RIDGE)\n",
        "\n",
        "regr = Ridge(alpha=0.05)\n",
        "regr.fit(X_train_final, Y_train)\n",
        "y_pred=regr.predict(X_test_final)\n",
        "print('R2 Score for RIDGE Regression : ',r2_score(Y_test, y_pred))\n",
        "rmse = np.sqrt(mean_squared_error(Y_test, y_pred))\n",
        "print('RSME for Ridge Regression: ',rmse)"
      ],
      "execution_count": 25,
      "outputs": [
        {
          "output_type": "stream",
          "name": "stdout",
          "text": [
            "R2 Score for RIDGE Regression :  0.6239497530545164\n",
            "RSME for Ridge Regression:  0.27163474574396407\n"
          ]
        }
      ]
    },
    {
      "cell_type": "code",
      "metadata": {
        "colab": {
          "base_uri": "https://localhost:8080/",
          "height": 297
        },
        "id": "nivpd11-JFoJ",
        "outputId": "71013e89-8f45-4972-cead-3806602ce4ba"
      },
      "source": [
        "#validation curve for Lasso Regression\n",
        "\n",
        "parameter_range=np.arange(0.001,0.003,0.00025)\n",
        "train_score, test_score=validation_curve(Lasso(), X_train_final,Y_train, param_name=\"alpha\", n_jobs=-1,\n",
        "      param_range=parameter_range, cv=6, scoring=\"r2\")\n",
        "mean_train_score = np.mean(train_score, axis = 1)\n",
        "std_train_score = np.std(train_score, axis = 1)\n",
        " \n",
        "# Calculating mean and standard deviation of testing score\n",
        "mean_test_score = np.mean(test_score, axis = 1)\n",
        "std_test_score = np.std(test_score, axis = 1)\n",
        " \n",
        "# Plot mean accuracy scores for training and testing scores\n",
        "plt.plot(parameter_range, mean_train_score,\n",
        "     label = \"Training Score\", color = 'b')\n",
        "plt.plot(parameter_range, mean_test_score,\n",
        "   label = \"Cross Validation Score\", color = 'g')\n",
        " \n",
        "# Creating the plot\n",
        "plt.ylabel(\"Accuracy\")\n",
        "plt.xlabel(\"alpha\")\n",
        "plt.tight_layout()\n",
        "plt.legend(loc = 'best')\n",
        "plt.show()"
      ],
      "execution_count": 26,
      "outputs": [
        {
          "output_type": "display_data",
          "data": {
            "image/png": "[encoded data removed]",
            "text/plain": [
              "<Figure size 432x288 with 1 Axes>"
            ]
          },
          "metadata": {
            "needs_background": "light"
          }
        }
      ]
    },
    {
      "cell_type": "code",
      "metadata": {
        "colab": {
          "base_uri": "https://localhost:8080/"
        },
        "id": "BkCpfndbZR2V",
        "outputId": "98252df5-e7d9-4cbf-fecf-56d112ca271a"
      },
      "source": [
        "#Linear Regression(LASSO)\n",
        "\n",
        "\n",
        "regr = Lasso(alpha=0.0008)\n",
        "regr.fit(X_train_final, Y_train)\n",
        "Y_pred=regr.predict(X_test_final)\n",
        "print('R2 Score : ',r2_score(Y_test, y_pred))\n",
        "rmse = np.sqrt(mean_squared_error(Y_test, y_pred))\n",
        "print('RSME: ',rmse)"
      ],
      "execution_count": 27,
      "outputs": [
        {
          "output_type": "stream",
          "name": "stdout",
          "text": [
            "R2 Score :  0.6239497530545164\n",
            "RSME:  0.27163474574396407\n"
          ]
        }
      ]
    },
    {
      "cell_type": "code",
      "metadata": {
        "colab": {
          "base_uri": "https://localhost:8080/",
          "height": 297
        },
        "id": "fp-nm3m9ZCAz",
        "outputId": "918a8013-065f-4b80-feaf-004a6997e5b5"
      },
      "source": [
        "#Validation Curve for Decision Tree regression (hyperparameter min_sample_split)\n",
        "\n",
        "\n",
        "parameter_range=np.arange(1,60,2)\n",
        "train_score, test_score=validation_curve(DecisionTreeRegressor(), X_train_final,np.ravel(Y_train), param_name=\"min_samples_split\", n_jobs=-1,\n",
        "      param_range=parameter_range, cv=5, scoring=\"r2\")\n",
        "mean_train_score = np.mean(train_score, axis = 1)\n",
        "std_train_score = np.std(train_score, axis = 1)\n",
        " \n",
        "# Calculating mean and standard deviation of testing score\n",
        "mean_test_score = np.mean(test_score, axis = 1)\n",
        "std_test_score = np.std(test_score, axis = 1)\n",
        " \n",
        "# Plot mean accuracy scores for training and testing scores\n",
        "plt.plot(parameter_range, mean_train_score,\n",
        "     label = \"Training Score\", color = 'b')\n",
        "plt.plot(parameter_range, mean_test_score,\n",
        "   label = \"Cross Validation Score\", color = 'g')\n",
        " \n",
        "# Creating the plot\n",
        "plt.ylabel(\"R2_Score\")\n",
        "plt.xlabel(\"min_samples_split\")\n",
        "plt.tight_layout()\n",
        "plt.legend(loc = 'best')\n",
        "plt.show()"
      ],
      "execution_count": 28,
      "outputs": [
        {
          "output_type": "display_data",
          "data": {
            "image/png": "[encoded data removed]",
            "text/plain": [
              "<Figure size 432x288 with 1 Axes>"
            ]
          },
          "metadata": {
            "needs_background": "light"
          }
        }
      ]
    },
    {
      "cell_type": "code",
      "metadata": {
        "colab": {
          "base_uri": "https://localhost:8080/",
          "height": 297
        },
        "id": "leWZf515as6F",
        "outputId": "fff16a09-56c2-43af-aeb8-6a326b1dd12d"
      },
      "source": [
        "#Validation Curve for Decision Tree regression (hyperparameter max_depth)\n",
        "parameter_range=np.arange(1,50,5)\n",
        "train_score, test_score=validation_curve(DecisionTreeRegressor(), X_train_final,np.ravel(Y_train), param_name=\"max_depth\", n_jobs=-1,\n",
        "      param_range=parameter_range, cv=5, scoring=\"r2\")\n",
        "mean_train_score = np.mean(train_score, axis = 1)\n",
        "std_train_score = np.std(train_score, axis = 1)\n",
        " \n",
        "# Calculating mean and standard deviation of testing score\n",
        "mean_test_score = np.mean(test_score, axis = 1)\n",
        "std_test_score = np.std(test_score, axis = 1)\n",
        " \n",
        "# Plot mean accuracy scores for training and testing scores\n",
        "plt.plot(parameter_range, mean_train_score,\n",
        "     label = \"Training Score\", color = 'b')\n",
        "plt.plot(parameter_range, mean_test_score,\n",
        "   label = \"Cross Validation Score\", color = 'g')\n",
        " \n",
        "# Creating the plot\n",
        "plt.ylabel(\"R2_Score\")\n",
        "plt.xlabel(\"max_depth\")\n",
        "plt.tight_layout()\n",
        "plt.legend(loc = 'best')\n",
        "plt.show()"
      ],
      "execution_count": 29,
      "outputs": [
        {
          "output_type": "display_data",
          "data": {
            "image/png": "[encoded data removed]",
            "text/plain": [
              "<Figure size 432x288 with 1 Axes>"
            ]
          },
          "metadata": {
            "needs_background": "light"
          }
        }
      ]
    },
    {
      "cell_type": "code",
      "metadata": {
        "colab": {
          "base_uri": "https://localhost:8080/"
        },
        "id": "ptQ6d3a5JSkg",
        "outputId": "537b626b-f197-4aeb-d08f-203435acf173"
      },
      "source": [
        "#Decision Tree Regression\n",
        "\n",
        "\n",
        " # create regressor object\n",
        "regressor = DecisionTreeRegressor(max_depth=8,min_samples_split=22)\n",
        "  \n",
        "# fit the regressor with x and y data\n",
        "regressor.fit(X_train_final, np.ravel(Y_train))  \n",
        "y_pred=regressor.predict(X_test_final)\n",
        "print('R2 Score : ',r2_score(Y_test, y_pred))\n",
        "rmse = np.sqrt(mean_squared_error(Y_test, y_pred))\n",
        "print('RSME: ',rmse)"
      ],
      "execution_count": 31,
      "outputs": [
        {
          "output_type": "stream",
          "name": "stdout",
          "text": [
            "R2 Score :  0.8796861266283469\n",
            "RSME:  0.15364563847821308\n"
          ]
        }
      ]
    },
    {
      "cell_type": "code",
      "metadata": {
        "id": "nszwT75ZeWad"
      },
      "source": [
        "#RandomizedSearchCV\n",
        "#This takes time\n",
        "# Number of trees in random forest\n",
        "n_estimators = [int(x) for x in np.linspace(start = 30, stop = 300, num = 10)]\n",
        "# Number of features to consider at every split\n",
        "max_features = [int(x) for x in np.linspace(start = 5, stop = 40, num = 8)]\n",
        "random_grid = {'n_estimators': n_estimators,\n",
        "               'max_features': max_features}\n",
        "rf_random = RandomizedSearchCV(RandomForestRegressor(), param_distributions = random_grid, n_iter = 100, cv = 5, verbose=2, random_state=42, n_jobs = -1)\n",
        "# Fit the random search model\n",
        "rf_random.fit(X_train_final, np.ravel(Y_train))\n",
        "rf_random.best_params_"
      ],
      "execution_count": null,
      "outputs": []
    },
    {
      "cell_type": "code",
      "metadata": {
        "colab": {
          "base_uri": "https://localhost:8080/",
          "height": 297
        },
        "id": "t3MzeG_YMf0m",
        "outputId": "c8cbb7a0-b52f-44a3-a683-9a57cd0bd91c"
      },
      "source": [
        "#Random Forest validation curve (hyper-parameter - n-estimators)\n",
        "\n",
        "parameter_range=np.arange(1,301,50)\n",
        "train_score, test_score=validation_curve(RandomForestRegressor(), X_train_final,np.ravel(Y_train), param_name=\"n_estimators\", n_jobs=-1,\n",
        "      param_range=parameter_range, cv=5, scoring=\"r2\")\n",
        "mean_train_score = np.mean(train_score, axis = 1)\n",
        "std_train_score = np.std(train_score, axis = 1)\n",
        " \n",
        "# Calculating mean and standard deviation of testing score\n",
        "mean_test_score = np.mean(test_score, axis = 1)\n",
        "std_test_score = np.std(test_score, axis = 1)\n",
        " \n",
        "# Plot mean accuracy scores for training and testing scores\n",
        "plt.plot(parameter_range, mean_train_score,\n",
        "     label = \"Training Score\", color = 'b')\n",
        "plt.plot(parameter_range, mean_test_score,\n",
        "   label = \"Cross Validation Score\", color = 'g')\n",
        " \n",
        "# Creating the plot\n",
        "plt.ylabel(\"R2_Score\")\n",
        "plt.xlabel(\"n_estimators\")\n",
        "plt.tight_layout()\n",
        "plt.legend(loc = 'best')\n",
        "plt.show()"
      ],
      "execution_count": 32,
      "outputs": [
        {
          "output_type": "display_data",
          "data": {
            "image/png": "[encoded data removed]",
            "text/plain": [
              "<Figure size 432x288 with 1 Axes>"
            ]
          },
          "metadata": {
            "needs_background": "light"
          }
        }
      ]
    },
    {
      "cell_type": "code",
      "metadata": {
        "colab": {
          "base_uri": "https://localhost:8080/",
          "height": 297
        },
        "id": "pouT9TLLMw46",
        "outputId": "3239a056-4fab-4712-9a23-64d697dfa61a"
      },
      "source": [
        "#Random Forest validation curve (hyper-parameter - max_features)\n",
        "parameter_range=np.arange(1,41,5)\n",
        "train_score, test_score=validation_curve(RandomForestRegressor(), X_train_final,np.ravel(Y_train), param_name=\"max_features\", n_jobs=-1,\n",
        "      param_range=parameter_range, cv=5, scoring=\"r2\")\n",
        "mean_train_score = np.mean(train_score, axis = 1)\n",
        "std_train_score = np.std(train_score, axis = 1)\n",
        " \n",
        "# Calculating mean and standard deviation of testing score\n",
        "mean_test_score = np.mean(test_score, axis = 1)\n",
        "std_test_score = np.std(test_score, axis = 1)\n",
        " \n",
        "# Plot mean accuracy scores for training and testing scores\n",
        "plt.plot(parameter_range, mean_train_score,\n",
        "     label = \"Training Score\", color = 'b')\n",
        "plt.plot(parameter_range, mean_test_score,\n",
        "   label = \"Cross Validation Score\", color = 'g')\n",
        " \n",
        "# Creating the plot\n",
        "plt.ylabel(\"R2_Score\")\n",
        "plt.xlabel(\"max_features\")\n",
        "plt.tight_layout()\n",
        "plt.legend(loc = 'best')\n",
        "plt.show()"
      ],
      "execution_count": 33,
      "outputs": [
        {
          "output_type": "display_data",
          "data": {
            "image/png": "[encoded data removed]",
            "text/plain": [
              "<Figure size 432x288 with 1 Axes>"
            ]
          },
          "metadata": {
            "needs_background": "light"
          }
        }
      ]
    },
    {
      "cell_type": "code",
      "metadata": {
        "colab": {
          "base_uri": "https://localhost:8080/"
        },
        "id": "BWWi4t1EMKbE",
        "outputId": "9f059a49-72c8-463c-f027-5b379ebedb84"
      },
      "source": [
        "#Random Forest Regression\n",
        "\n",
        " # create regressor object\n",
        "regressor1 = RandomForestRegressor(max_depth=50,max_features=30, n_estimators=30)\n",
        "  \n",
        "# fit the regressor with x and y data\n",
        "regressor1.fit(X_train_final, np.ravel(Y_train))  \n",
        "y_pred=regressor1.predict(X_test_final)\n",
        "print('R2 Score : ',r2_score(Y_test, y_pred))\n",
        "rmse = np.sqrt(mean_squared_error(Y_test, y_pred))\n",
        "print('RSME: ',rmse)"
      ],
      "execution_count": 34,
      "outputs": [
        {
          "output_type": "stream",
          "name": "stdout",
          "text": [
            "R2 Score :  0.9203262693549211\n",
            "RSME:  0.12503164892084054\n"
          ]
        }
      ]
    },
    {
      "cell_type": "code",
      "metadata": {
        "id": "1RI8lb8yOQHm",
        "colab": {
          "base_uri": "https://localhost:8080/"
        },
        "outputId": "373a905a-4c2f-4f17-add9-781d149fbc2d"
      },
      "source": [
        "#MLP Regression\n",
        "\n",
        "\n",
        "#Create parameter grid based on earlier analysis\n",
        "# Mlpr_grid = [\n",
        "#     {'alpha': [0.1,0.01],'early_stopping': [True],'hidden_layer_sizes': [(10,5),(15,5),(18,5)], 'solver': ['lbfgs', 'adam','sgd'], 'batch_size': ['auto'],\n",
        "#      'learning_rate': ['adaptive','invscaling'], 'max_iter': [10000,15000,20000], 'verbose': [True], \n",
        "#      'nesterovs_momentum': [True],  'validation_fraction': [0.12],\n",
        "#      'random_state': [2,3],'activation': ['logistic','tanh', 'relu']}\n",
        "# ]\n",
        "\n",
        "# #Run gridsearchCV for MLPRegressor\n",
        "# regressor = GridSearchCV(MLPRegressor(), Mlpr_grid, cv = 5, scoring='r2')\n",
        "# regressor.fit(X_train_final, np.ravel(Y_train))  \n",
        "\n",
        "# #print Best Parameters:\n",
        "# print(\"Best Parameters = \" ,regressor.best_params_)\n",
        "#Above commented part takes lots of time to run, below part is for best parameters\n",
        "\n",
        "#Run only the best found Parameter:\n",
        "regressor = MLPRegressor(alpha=0.01,early_stopping= True, hidden_layer_sizes= (15,5),solver='lbfgs', batch_size ='auto',\n",
        "     learning_rate ='adaptive', max_iter=10000, verbose=True, \n",
        "     nesterovs_momentum= True, validation_fraction= 0.12,\n",
        "     random_state= 2,activation= 'logistic')\n",
        "\t \n",
        "regressor.fit(X_train_final, np.ravel(Y_train))  \n",
        "y_pred=regressor.predict(X_test_final)\n",
        "\n",
        "\n",
        "#Print R2 and RSME scores\n",
        "print('R2 Score : ',r2_score(Y_test, y_pred))\n",
        "rmse = np.sqrt(mean_squared_error(Y_test, y_pred))\n",
        "print('RSME: ',rmse)\n",
        "\n",
        "\n",
        "\n"
      ],
      "execution_count": 35,
      "outputs": [
        {
          "output_type": "stream",
          "name": "stdout",
          "text": [
            "R2 Score :  0.9341014485880813\n",
            "RSME:  0.11371043375383412\n"
          ]
        }
      ]
    },
    {
      "cell_type": "code",
      "metadata": {
        "id": "VUr8fxqeOhg3",
        "colab": {
          "base_uri": "https://localhost:8080/",
          "height": 297
        },
        "outputId": "761fa436-ae16-46b5-ab35-5d20d1158782"
      },
      "source": [
        "#Gradient Boosting validation Curve (hyper-parameter: Learning Rate)\n",
        "\n",
        "parameter_range=np.arange(0.05,1,0.05)\n",
        "train_score, test_score=validation_curve(GradientBoostingRegressor(), X_train_final,np.ravel(Y_train), param_name=\"learning_rate\", n_jobs=-1,\n",
        "      param_range=parameter_range, cv=5, scoring=\"r2\")\n",
        "mean_train_score = np.mean(train_score, axis = 1)\n",
        "std_train_score = np.std(train_score, axis = 1)\n",
        " \n",
        "# Calculating mean and standard deviation of testing score\n",
        "mean_test_score = np.mean(test_score, axis = 1)\n",
        "std_test_score = np.std(test_score, axis = 1)\n",
        " \n",
        "# Plot mean accuracy scores for training and testing scores\n",
        "plt.plot(parameter_range, mean_train_score,\n",
        "     label = \"Training Score\", color = 'b')\n",
        "plt.plot(parameter_range, mean_test_score,\n",
        "   label = \"Cross Validation Score\", color = 'g')\n",
        " \n",
        "# Creating the plot\n",
        "plt.ylabel(\"Accuracy\")\n",
        "plt.xlabel(\"learning_rate\")\n",
        "plt.tight_layout()\n",
        "plt.legend(loc = 'best')\n",
        "plt.show()\n"
      ],
      "execution_count": 36,
      "outputs": [
        {
          "output_type": "display_data",
          "data": {
            "image/png": "[encoded data removed]",
            "text/plain": [
              "<Figure size 432x288 with 1 Axes>"
            ]
          },
          "metadata": {
            "needs_background": "light"
          }
        }
      ]
    },
    {
      "cell_type": "code",
      "metadata": {
        "id": "xQBh7pQ0Owcq",
        "colab": {
          "base_uri": "https://localhost:8080/",
          "height": 297
        },
        "outputId": "9e6eb251-ca4a-4b8c-ed03-98d50868e289"
      },
      "source": [
        "#Gradient Boosting validation Curve (hyper-parameter: Max Depth)\n",
        "parameter_range=np.arange(2,11,2)\n",
        "train_score, test_score=validation_curve(GradientBoostingRegressor(), X_train_final,np.ravel(Y_train), param_name=\"max_depth\", n_jobs=-1,\n",
        "      param_range=parameter_range, cv=5, scoring=\"r2\")\n",
        "mean_train_score = np.mean(train_score, axis = 1)\n",
        "std_train_score = np.std(train_score, axis = 1)\n",
        " \n",
        "# Calculating mean and standard deviation of testing score\n",
        "mean_test_score = np.mean(test_score, axis = 1)\n",
        "std_test_score = np.std(test_score, axis = 1)\n",
        " \n",
        "# Plot mean accuracy scores for training and testing scores\n",
        "plt.plot(parameter_range, mean_train_score,\n",
        "     label = \"Training Score\", color = 'b')\n",
        "plt.plot(parameter_range, mean_test_score,\n",
        "   label = \"Cross Validation Score\", color = 'g')\n",
        " \n",
        "# Creating the plot\n",
        "plt.ylabel(\"Accuracy\")\n",
        "plt.xlabel(\"max_depth\")\n",
        "plt.tight_layout()\n",
        "plt.legend(loc = 'best')\n",
        "plt.show()"
      ],
      "execution_count": 37,
      "outputs": [
        {
          "output_type": "display_data",
          "data": {
            "image/png": "[encoded data removed]",
            "text/plain": [
              "<Figure size 432x288 with 1 Axes>"
            ]
          },
          "metadata": {
            "needs_background": "light"
          }
        }
      ]
    },
    {
      "cell_type": "code",
      "metadata": {
        "id": "_nKlQEgJOmGj",
        "colab": {
          "base_uri": "https://localhost:8080/"
        },
        "outputId": "f044a08e-4e9b-4b54-9dc7-f3280e0d8c37"
      },
      "source": [
        "#GradientBoost Regression\n",
        "\n",
        "regressor = GradientBoostingRegressor(n_estimators = 200, max_depth = 5,learning_rate=0.1)\n",
        "regressor.fit(X_train_final, np.ravel(Y_train)) \n",
        "y_pred = regressor.predict(X_test_final)\n",
        "print('R2 Score : ',r2_score(Y_test, y_pred))\n",
        "rmse = np.sqrt(mean_squared_error(Y_test, y_pred))\n",
        "print('RSME: ',rmse)"
      ],
      "execution_count": 38,
      "outputs": [
        {
          "output_type": "stream",
          "name": "stdout",
          "text": [
            "R2 Score :  0.9370550776319728\n",
            "RSME:  0.11113292199158865\n"
          ]
        }
      ]
    },
    {
      "cell_type": "code",
      "metadata": {
        "id": "mWRQp311O-8v",
        "colab": {
          "base_uri": "https://localhost:8080/",
          "height": 297
        },
        "outputId": "528dc050-f650-4c9a-88a3-1ba6368ef7e6"
      },
      "source": [
        "\n",
        "from sklearn import svm\n",
        "parameter_range=np.arange(0,50,5)\n",
        "train_score, test_score=validation_curve(svm.SVR(kernel='rbf'), X_train_final,Y_train, param_name=\"C\", n_jobs=-1,\n",
        "      param_range=parameter_range, cv=6, scoring=\"r2\")\n",
        "mean_train_score = np.mean(train_score, axis = 1)\n",
        "std_train_score = np.std(train_score, axis = 1)\n",
        " \n",
        "# Calculating mean and standard deviation of testing score\n",
        "mean_test_score = np.mean(test_score, axis = 1)\n",
        "std_test_score = np.std(test_score, axis = 1)\n",
        " \n",
        "# Plot mean accuracy scores for training and testing scores\n",
        "plt.plot(parameter_range, mean_train_score,\n",
        "     label = \"Training Score\", color = 'b')\n",
        "plt.plot(parameter_range, mean_test_score,\n",
        "   label = \"Cross Validation Score\", color = 'g')\n",
        " \n",
        "# Creating the plot\n",
        "plt.ylabel(\"R2_Score\")\n",
        "plt.xlabel(\"coef0\")\n",
        "plt.tight_layout()\n",
        "plt.legend(loc = 'best')\n",
        "plt.show()"
      ],
      "execution_count": 39,
      "outputs": [
        {
          "output_type": "display_data",
          "data": {
            "image/png": "[encoded data removed]",
            "text/plain": [
              "<Figure size 432x288 with 1 Axes>"
            ]
          },
          "metadata": {
            "needs_background": "light"
          }
        }
      ]
    },
    {
      "cell_type": "code",
      "metadata": {
        "id": "h6STCgbeO4lK",
        "colab": {
          "base_uri": "https://localhost:8080/"
        },
        "outputId": "9fbcd87b-d34c-435b-d189-248d5fd4d923"
      },
      "source": [
        " # create regressor object\n",
        "poly_regressor = svm.SVR(kernel='poly', degree=2, coef0=0.45)\n",
        "#SVR using polynomial kernel with degree 2\n",
        "# fit the regressor with x and y data\n",
        "poly_regressor.fit(X_train_final, np.ravel(Y_train))  \n",
        "y_pred=poly_regressor.predict(X_test_final)\n",
        "print('R2 Score : ',r2_score(Y_test, y_pred))\n",
        "rmse = np.sqrt(mean_squared_error(Y_test, y_pred))\n",
        "print('RSME: ',rmse)"
      ],
      "execution_count": 40,
      "outputs": [
        {
          "output_type": "stream",
          "name": "stdout",
          "text": [
            "R2 Score :  0.6731003722585974\n",
            "RSME:  0.2532617451771427\n"
          ]
        }
      ]
    },
    {
      "cell_type": "code",
      "metadata": {
        "id": "67Ro5ygWeNC_",
        "colab": {
          "base_uri": "https://localhost:8080/"
        },
        "outputId": "a9bf3a62-5307-49f6-e0ef-0949cc07a24b"
      },
      "source": [
        "\n",
        "clf = make_pipeline(StandardScaler(), svm.SVR(kernel='rbf', C=30))\n",
        "clf.fit(X_train_final, np.ravel(Y_train))\n",
        "y_pred=clf.predict(X_test_final)\n",
        "print('R2 Score : ',r2_score(Y_test, y_pred))\n",
        "rmse = np.sqrt(mean_squared_error(Y_test, y_pred))\n",
        "print('RSME: ',rmse)\n",
        "#SVM using standard scaler and pipelining"
      ],
      "execution_count": 41,
      "outputs": [
        {
          "output_type": "stream",
          "name": "stdout",
          "text": [
            "R2 Score :  0.8606488224647935\n",
            "RSME:  0.1653551416349538\n"
          ]
        }
      ]
    }
  ]
}